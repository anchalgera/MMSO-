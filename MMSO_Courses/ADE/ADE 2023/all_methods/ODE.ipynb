{
 "cells": [
  {
   "cell_type": "code",
   "execution_count": 1,
   "id": "836a236e",
   "metadata": {},
   "outputs": [],
   "source": [
    "import numpy as np \n",
    "import scipy as sp \n",
    "import math\n",
    "import matplotlib.pyplot as plt"
   ]
  },
  {
   "cell_type": "code",
   "execution_count": 2,
   "id": "3d850c82",
   "metadata": {},
   "outputs": [],
   "source": [
    "def f(t,u):\n",
    "    #return 0.1*t*(1-u**2)\n",
    "    return -20*u"
   ]
  },
  {
   "cell_type": "code",
   "execution_count": 17,
   "id": "da38bd0d",
   "metadata": {},
   "outputs": [],
   "source": [
    "def euler(ti,ui,h,f):\n",
    "    return ui + h*f(ti,ui)"
   ]
  },
  {
   "cell_type": "code",
   "execution_count": 18,
   "id": "35b7e674",
   "metadata": {},
   "outputs": [],
   "source": [
    "def impeu(ti,ui,h,):\n",
    "        return (-1+math.sqrt(1-0.4*h*u+0.4*h*ti))/0.2*h*ti"
   ]
  },
  {
   "cell_type": "code",
   "execution_count": 19,
   "id": "fb67b10d",
   "metadata": {},
   "outputs": [],
   "source": [
    "def rk_method(ti,ui,h,f):\n",
    "    k1 = f(ti,ui)\n",
    "    k2 = f(ti+h/4,ui+h/4*k1)\n",
    "    return -k1 + 2*k2"
   ]
  },
  {
   "cell_type": "code",
   "execution_count": 20,
   "id": "65780e84",
   "metadata": {},
   "outputs": [],
   "source": [
    "def u_exact(ti, ui):\n",
    "    return (math.exp(t**2/10)-1)/(math.exp(t**2/10)+1)"
   ]
  },
  {
   "cell_type": "code",
   "execution_count": 21,
   "id": "a5e274d5",
   "metadata": {},
   "outputs": [],
   "source": [
    "def rk4_method(ti, yi, dt, f):\n",
    "    k1 = f(ti, yi)\n",
    "    k2 = f(ti + dt/2, yi + k1*dt/2)\n",
    "    k3 = f(ti + dt/2, yi + k2*dt/2)\n",
    "    k4 = f(ti + dt, yi + k3*dt)\n",
    "    return yi + dt/6*(k1 + 2*k2 + 2*k3 + k4)"
   ]
  },
  {
   "cell_type": "code",
   "execution_count": 22,
   "id": "0594f1cb",
   "metadata": {},
   "outputs": [],
   "source": [
    "#Runge Kutta Second Order from the question\n",
    "t = 0\n",
    "u = 0\n",
    "h = 0.5\n",
    "u_sol =[]\n",
    "t_sol = []\n",
    "while t < 10:\n",
    "    u = rk_method(t,u,h,f)\n",
    "    t = t+h\n",
    "    t_sol.append(t)\n",
    "    u_sol.append(u)"
   ]
  },
  {
   "cell_type": "code",
   "execution_count": 23,
   "id": "dd7c8d62",
   "metadata": {},
   "outputs": [],
   "source": [
    "# Exact solution \n",
    "t = 0\n",
    "u = 0\n",
    "h = 0.5\n",
    "u_ex =[]\n",
    "t_ex = []\n",
    "while t < 10:\n",
    "    u = u_exact(t,u)\n",
    "    t = t+h\n",
    "    t_ex.append(t)\n",
    "    u_ex.append(u)"
   ]
  },
  {
   "cell_type": "code",
   "execution_count": 24,
   "id": "f246e258",
   "metadata": {},
   "outputs": [],
   "source": [
    "# Runge Kutta 4th order method \n",
    "t = 0\n",
    "u = 0\n",
    "h = 0.5\n",
    "t4 = []\n",
    "u4 = []\n",
    "while t < 10:\n",
    "    u = rk4_method(t,u,h,f)\n",
    "    t +=h\n",
    "    \n",
    "    t4.append(t)\n",
    "    u4.append(u)"
   ]
  },
  {
   "cell_type": "code",
   "execution_count": 25,
   "id": "dfaa8890",
   "metadata": {},
   "outputs": [],
   "source": [
    "# Euler Method\n",
    "t = 0\n",
    "u = 0 \n",
    "h = 0.5\n",
    "t_exp = []\n",
    "u_exp = []\n",
    "while t < 10:\n",
    "    u = euler(t,u,h,f)\n",
    "    t = t +h\n",
    "    t_exp.append(t)\n",
    "    u_exp.append(u)"
   ]
  },
  {
   "cell_type": "code",
   "execution_count": 26,
   "id": "eb122369",
   "metadata": {},
   "outputs": [],
   "source": [
    "# Imp Euler Method\n",
    "t = 0\n",
    "u = 0\n",
    "h = 0.5\n",
    "t_imp = []\n",
    "u_imp = []\n",
    "while t < 11:\n",
    "    u = impeu(t,u,h)\n",
    "    t = t+h\n",
    "    t_imp.append(t)\n",
    "    u_imp.append(u)"
   ]
  },
  {
   "cell_type": "code",
   "execution_count": 27,
   "id": "38c0fd4f",
   "metadata": {},
   "outputs": [
    {
     "data": {
      "image/png": "[encoded data removed]",
      "text/plain": [
       "<Figure size 640x480 with 1 Axes>"
      ]
     },
     "metadata": {},
     "output_type": "display_data"
    }
   ],
   "source": [
    "plt.plot(t_exp,u_exp,color = 'black',marker='1',linewidth=0.0, label='Euler Method')\n",
    "#plt.plot(t_sol, u_sol, color='red', marker='2', linewidth=0.0, label='RK 2 Order Method')\n",
    "#plt.plot(t4, u4, color='green', marker='3', linewidth=0.0, label='RK 4 Order Method')\n",
    "#plt.plot(t_imp,u_imp,color = 'm',marker = '4',linewidth = 0.0, label = \"Implicit\")\n",
    "plt.plot(t_ex, u_ex, color='blue', label='Exact')\n",
    "plt.legend()\n",
    "plt.show()"
   ]
  },
  {
   "cell_type": "code",
   "execution_count": 58,
   "id": "4ff7b8e4",
   "metadata": {},
   "outputs": [],
   "source": [
    "def impeu(ti,ui,h,):\n",
    "        return (-1-math.sqrt(1-0.4*h*u+0.4*h*ti))/0.2*h*ti"
   ]
  },
  {
   "cell_type": "code",
   "execution_count": 61,
   "id": "96671738",
   "metadata": {},
   "outputs": [],
   "source": [
    "# Imp Euler Method\n",
    "t = 5\n",
    "u = 0\n",
    "h = 0.25\n",
    "t_imp = []\n",
    "u_imp = []\n",
    "while t < 11:\n",
    "    u = impeu(t,u,h)\n",
    "    t = t+h\n",
    "    t_imp.append(t)\n",
    "    u_imp.append(u)"
   ]
  },
  {
   "cell_type": "code",
   "execution_count": 57,
   "id": "7321350b",
   "metadata": {},
   "outputs": [
    {
     "data": {
      "text/plain": [
       "[0.025,\n",
       " 0.07490921020317078,\n",
       " 0.12384481360416878,\n",
       " 0.17071894223149495,\n",
       " 0.21466997114916966,\n",
       " 0.25514133521684,\n",
       " 0.2918940349321104,\n",
       " 0.32494856450241477,\n",
       " 0.35449612146588044,\n",
       " 0.3808166463564151,\n",
       " 0.4042207649669355,\n",
       " 0.42501533182886114,\n",
       " 0.44348582393585473,\n",
       " 0.45988904386861706,\n",
       " 0.4744515414571806,\n",
       " 0.48737093325513214,\n",
       " 0.4988185105390587,\n",
       " 0.5089422670762027,\n",
       " 0.5178699048424869,\n",
       " 0.5257116126600602]"
      ]
     },
     "execution_count": 57,
     "metadata": {},
     "output_type": "execute_result"
    }
   ],
   "source": [
    "u_sol"
   ]
  },
  {
   "cell_type": "code",
   "execution_count": 3,
   "id": "3449d115",
   "metadata": {},
   "outputs": [],
   "source": [
    "def f(t,u):\n",
    "    return u**2-u"
   ]
  },
  {
   "cell_type": "code",
   "execution_count": 4,
   "id": "b98e45cf",
   "metadata": {},
   "outputs": [],
   "source": [
    "def euler(ti,ui,h,f):\n",
    "    return ui + h*f(ti,ui)"
   ]
  },
  {
   "cell_type": "code",
   "execution_count": 6,
   "id": "6a752bb1",
   "metadata": {},
   "outputs": [],
   "source": [
    "# Exact solution \n",
    "t = 0\n",
    "u = 0\n",
    "h = 0.5\n",
    "u_ex =[]\n",
    "t_ex = []\n",
    "while t < 10:\n",
    "    t = t+h\n",
    "    t_ex.append(t)\n",
    "    u_ex.append(u)"
   ]
  },
  {
   "cell_type": "code",
   "execution_count": 7,
   "id": "45622d90",
   "metadata": {},
   "outputs": [
    {
     "data": {
      "text/plain": [
       "[0, 0, 0, 0, 0, 0, 0, 0, 0, 0, 0, 0, 0, 0, 0, 0, 0, 0, 0, 0]"
      ]
     },
     "execution_count": 7,
     "metadata": {},
     "output_type": "execute_result"
    }
   ],
   "source": [
    "u_ex"
   ]
  },
  {
   "cell_type": "code",
   "execution_count": null,
   "id": "fc2a8dd3",
   "metadata": {},
   "outputs": [],
   "source": []
  }
 ],
 "metadata": {
  "kernelspec": {
   "display_name": "Python 3 (ipykernel)",
   "language": "python",
   "name": "python3"
  },
  "language_info": {
   "codemirror_mode": {
    "name": "ipython",
    "version": 3
   },
   "file_extension": ".py",
   "mimetype": "text/x-python",
   "name": "python",
   "nbconvert_exporter": "python",
   "pygments_lexer": "ipython3",
   "version": "3.9.13"
  }
 },
 "nbformat": 4,
 "nbformat_minor": 5
}
