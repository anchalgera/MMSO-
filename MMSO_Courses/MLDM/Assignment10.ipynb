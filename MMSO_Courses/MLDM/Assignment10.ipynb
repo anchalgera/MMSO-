{
 "cells": [
  {
   "cell_type": "markdown",
   "metadata": {},
   "source": [
    "# Assignment 10"
   ]
  },
  {
   "cell_type": "code",
   "execution_count": 1,
   "metadata": {},
   "outputs": [],
   "source": [
    "import numpy as np\n",
    "np.set_printoptions(threshold=10) # printing setup\n",
    "import matplotlib.pyplot as plt"
   ]
  },
  {
   "cell_type": "code",
   "execution_count": 2,
   "metadata": {},
   "outputs": [],
   "source": [
    "# This formula shall be imitated by the neural network\n",
    "def formula_1(x):\n",
    "    return x + 0.75\n",
    "\n",
    "# This formula shall be imitated by the neural network, too\n",
    "def formula_2(x):\n",
    "    return(np.sin(x) + 0.5)"
   ]
  },
  {
   "cell_type": "code",
   "execution_count": 3,
   "metadata": {},
   "outputs": [
    {
     "data": {
      "text/plain": [
       "array([[ 1.25332801],\n",
       "       [ 0.71497192],\n",
       "       [-0.20579309],\n",
       "       ...,\n",
       "       [ 0.05363839],\n",
       "       [ 0.27503846],\n",
       "       [ 0.48578522]])"
      ]
     },
     "execution_count": 3,
     "metadata": {},
     "output_type": "execute_result"
    }
   ],
   "source": [
    "# Input data\n",
    "X = np.random.uniform(low=-0.5, high=1.55, size=100)# make 100 uniformly distributed samples\n",
    "X = X.reshape(-1, 1) # -1 indicates \"as many rows as required\"\n",
    "X # input data as column vector"
   ]
  },
  {
   "cell_type": "code",
   "execution_count": 4,
   "metadata": {},
   "outputs": [
    {
     "data": {
      "text/plain": [
       "array([[2.00332801],\n",
       "       [1.46497192],\n",
       "       [0.54420691],\n",
       "       ...,\n",
       "       [0.80363839],\n",
       "       [1.02503846],\n",
       "       [1.23578522]])"
      ]
     },
     "execution_count": 4,
     "metadata": {},
     "output_type": "execute_result"
    }
   ],
   "source": [
    "# Target values with formula_1\n",
    "y_1 = np.array([formula_1(x) for x in X.flatten()]) # one output per sample, |X|-many samples\n",
    "y_1 = y_1.reshape(-1, 1)\n",
    "y_1 # target data as column vector"
   ]
  },
  {
   "cell_type": "code",
   "execution_count": 5,
   "metadata": {},
   "outputs": [
    {
     "data": {
      "text/plain": [
       "array([[1.45002876],\n",
       "       [1.15559621],\n",
       "       [0.29565642],\n",
       "       ...,\n",
       "       [0.55361268],\n",
       "       [0.77158396],\n",
       "       [0.96690288]])"
      ]
     },
     "execution_count": 5,
     "metadata": {},
     "output_type": "execute_result"
    }
   ],
   "source": [
    "# Target values with formula_2\n",
    "y_2 = np.array([formula_2(x) for x in X.flatten()]) # one output per sample, |X|-many samples\n",
    "y_2 = y_2.reshape(-1, 1)\n",
    "y_2 # target data as column vector"
   ]
  },
  {
   "cell_type": "markdown",
   "metadata": {},
   "source": [
    "### Code below contains the parts to be edited"
   ]
  },
  {
   "cell_type": "code",
   "execution_count": null,
   "metadata": {},
   "outputs": [],
   "source": [
    "# Simple neural-network based regressor\n",
    "class NeuralNetwork:\n",
    "    \n",
    "    # Function called at object initialization\n",
    "    def __init__(self):\n",
    "        \n",
    "        # These are members of the class. You can access them in every method by \"self.var_name\" and from outside the class with \"instance_name.var_name\"\n",
    "        \n",
    "        # Sample to compute pass with\n",
    "        self.X          = 0.0 # set me!\n",
    "        self.y          = 0.0 # set me!\n",
    "        \n",
    "        # Parameters to be learned\n",
    "        self.weight_1   = 1.0 # teach me!\n",
    "        self.weight_2   = 1.0 # teach me!\n",
    "        self.bias       = 1.0 # teach me!\n",
    "        \n",
    "        # State information\n",
    "        self.hidden     = 0.0 # use me!\n",
    "        self.output     = 0.0 # use me!\n",
    "        self.error      = 0.0 # use me!\n",
    "        \n",
    "    # Set sample to be used in feed-forward and back-propagation pass\n",
    "    def set_sample(self, X, y):\n",
    "        self.X = float(X)\n",
    "        self.y = float(y)\n",
    "        \n",
    "    # (a) Feed-forward pass\n",
    "    def feed_forward(self):\n",
    "        \n",
    "        # TODO: Feed-forward pass and error estimation, store results in state information members\n",
    "        # Consider the loss function: 0.5 ∗ (𝑡𝑎𝑟𝑔𝑒𝑡 − 𝑜𝑢𝑡𝑝𝑢𝑡)2\n",
    "\n",
    "        print(\"TODO (a)\") # remove this line, just here to produce no compile error in initial setup\n",
    "      \n",
    "    # (b) Back-propagation pass\n",
    "    def back_prop(self):\n",
    "        \n",
    "        # TODO: Derivations of parameters\n",
    "        # TODO: Update the parameters with learning rate of 0.01\n",
    "        print(\"TODO (b)\") # remove this line, just here to produce no compile error in initial setup\n",
    "        \n",
    "def execute_nn(X, y):\n",
    "    \n",
    "    # Instantiate neural network\n",
    "    nn = NeuralNetwork()\n",
    "    \n",
    "    # Collect mean error of each epoch to plot it later\n",
    "    epoch_error = []\n",
    "\n",
    "    # Perform multiple epochs, aka inputting the dataset multiple times\n",
    "    for epoch in range(0,100):\n",
    "\n",
    "        \n",
    "        # Example use of neural network class\n",
    "        # nn = NeuralNetwork() # instantiates neural network\n",
    "        # nn.set_sample(2,5) # sets sample with 2 as input and 5 as target\n",
    "        # nn.feed_forward() # perform feed-forward to calculate output\n",
    "        # nn.back_prop() # use difference between target and actual output to update parameters\n",
    "        #Remember final error of each epoch in \"epoch_error\"\n",
    "        print(\"TODO (c)\") # remove this line, just here to produce no compile error in initial setup\n",
    "        \n",
    "    # Print final parameters of trained neural network\n",
    "    print(\"Weight_1:\"+ str(nn.weight_1))\n",
    "    print(\"Weight_2:\" + str(nn.weight_2))\n",
    "    print(\"Bias:\" + str(nn.bias))\n",
    "    \n",
    "    # Plot epoch errors with logarithmic transformation\n",
    "    plt.plot(list(range(len(epoch_error))), np.log(epoch_error))\n",
    "    ax = plt.gca()\n",
    "    ax.set_xlabel('# Epoch')\n",
    "    ax.set_ylabel('Error')\n",
    "    plt.show()\n",
    "    \n",
    "    # Plot datapoints as originally transformed and as transformed by neural network\n",
    "    computed = []\n",
    "    for i in range(0, X.shape[0]):\n",
    "        nn.set_sample(X[i], y[i])\n",
    "        nn.feed_forward()\n",
    "        computed.append(nn.output)\n",
    "    plt.scatter(X.transpose().flatten(), y.transpose().flatten(), c='blue', s=16)\n",
    "    plt.scatter(X.transpose().flatten(), computed, c='red', s=16)\n",
    "    plt.show()\n",
    "\n",
    "print(\"Imitation of formula 'x+0.75'\")\n",
    "execute_nn(X,y_1)\n",
    "print()\n",
    "print(\"Imitation of formula 'sin(x)+0.5'\")\n",
    "execute_nn(X,y_2)"
   ]
  },
  {
   "cell_type": "code",
   "execution_count": 6,
   "metadata": {},
   "outputs": [
    {
     "name": "stdout",
     "output_type": "stream",
     "text": [
      "[[0.99089925]]  - Correct:  1\n",
      "[[0.006409]]  - Correct:  0\n"
     ]
    },
    {
     "data": {
      "image/png": "[encoded data removed]",
      "text/plain": [
       "<Figure size 1080x360 with 1 Axes>"
      ]
     },
     "metadata": {
      "needs_background": "light"
     },
     "output_type": "display_data"
    }
   ],
   "source": [
    "#Practice\n",
    "\n",
    "import numpy as np # helps with the math\n",
    "import matplotlib.pyplot as plt # to plot error during training\n",
    "\n",
    "# input data\n",
    "inputs = np.array([[0, 1, 0],\n",
    "                   [0, 1, 1],\n",
    "                   [0, 0, 0],\n",
    "                   [1, 0, 0],\n",
    "                   [1, 1, 1],\n",
    "                   [1, 0, 1]])\n",
    "# output data\n",
    "outputs = np.array([[0], [0], [0], [1], [1], [1]])\n",
    "\n",
    "# create NeuralNetwork class\n",
    "class NeuralNetwork:\n",
    "\n",
    "    # intialize variables in class\n",
    "    def __init__(self, inputs, outputs):\n",
    "        self.inputs  = inputs\n",
    "        self.outputs = outputs\n",
    "        # initialize weights as .50 for simplicity\n",
    "        self.weights = np.array([[.50], [.50], [.50]])\n",
    "        self.error_history = []\n",
    "        self.epoch_list = []\n",
    "\n",
    "    #activation function ==> S(x) = 1/1+e^(-x)\n",
    "    def sigmoid(self, x, deriv=False):\n",
    "        if deriv == True:\n",
    "            return x * (1 - x)\n",
    "        return 1 / (1 + np.exp(-x))\n",
    "\n",
    "    # data will flow through the neural network.\n",
    "    def feed_forward(self):\n",
    "        self.hidden = self.sigmoid(np.dot(self.inputs, self.weights))\n",
    "\n",
    "    # going backwards through the network to update weights\n",
    "    def backpropagation(self):\n",
    "        self.error  = self.outputs - self.hidden\n",
    "        delta = self.error * self.sigmoid(self.hidden, deriv=True)\n",
    "        self.weights += np.dot(self.inputs.T, delta)\n",
    "\n",
    "    # train the neural net for 25,000 iterations\n",
    "    def train(self, epochs=25000):\n",
    "        for epoch in range(epochs):\n",
    "            # flow forward and produce an output\n",
    "            self.feed_forward()\n",
    "            # go back though the network to make corrections based on the output\n",
    "            self.backpropagation()    \n",
    "            # keep track of the error history over each epoch\n",
    "            self.error_history.append(np.average(np.abs(self.error)))\n",
    "            self.epoch_list.append(epoch)\n",
    "\n",
    "    # function to predict output on new and unseen input data                               \n",
    "    def predict(self, new_input):\n",
    "        prediction = self.sigmoid(np.dot(new_input, self.weights))\n",
    "        return prediction\n",
    "\n",
    "# create neural network   \n",
    "NN = NeuralNetwork(inputs, outputs)\n",
    "# train neural network\n",
    "NN.train()\n",
    "\n",
    "# create two new examples to predict                                   \n",
    "example = np.array([[1, 1, 0]])\n",
    "example_2 = np.array([[0, 1, 1]])\n",
    "\n",
    "# print the predictions for both examples                                   \n",
    "print(NN.predict(example), ' - Correct: ', example[0][0])\n",
    "print(NN.predict(example_2), ' - Correct: ', example_2[0][0])\n",
    "\n",
    "# plot the error over the entire training duration\n",
    "plt.figure(figsize=(15,5))\n",
    "plt.plot(NN.epoch_list, NN.error_history)\n",
    "plt.xlabel('Epoch')\n",
    "plt.ylabel('Error')\n",
    "plt.show()"
   ]
  },
  {
   "cell_type": "code",
   "execution_count": null,
   "metadata": {},
   "outputs": [],
   "source": []
  }
 ],
 "metadata": {
  "kernelspec": {
   "display_name": "Python 3 (ipykernel)",
   "language": "python",
   "name": "python3"
  },
  "language_info": {
   "codemirror_mode": {
    "name": "ipython",
    "version": 3
   },
   "file_extension": ".py",
   "mimetype": "text/x-python",
   "name": "python",
   "nbconvert_exporter": "python",
   "pygments_lexer": "ipython3",
   "version": "3.9.7"
  }
 },
 "nbformat": 4,
 "nbformat_minor": 2
}
