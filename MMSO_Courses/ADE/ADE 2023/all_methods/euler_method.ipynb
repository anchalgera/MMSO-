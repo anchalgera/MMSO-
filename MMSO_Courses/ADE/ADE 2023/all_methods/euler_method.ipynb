{
 "cells": [
  {
   "attachments": {},
   "cell_type": "markdown",
   "metadata": {},
   "source": [
    "Explicit One-Step-Method"
   ]
  },
  {
   "cell_type": "code",
   "execution_count": 7,
   "metadata": {},
   "outputs": [],
   "source": [
    "import numpy as np\n",
    "from numpy import *"
   ]
  },
  {
   "cell_type": "code",
   "execution_count": 9,
   "metadata": {},
   "outputs": [],
   "source": [
    "def euler (f,t,u0):\n",
    "    n = len(t)\n",
    "    m = len(u0)\n",
    "    U = zeros((m,n))\n",
    "    U[:,0] = u0\n",
    "    \n",
    "    for k in range (n-1):\n",
    "        h = t[k+1]-t[k]\n",
    "        U[:,k+1] = U[:,k] + h*f(t[k],U[:,k])\n",
    "    return U"
   ]
  },
  {
   "cell_type": "code",
   "execution_count": 13,
   "metadata": {},
   "outputs": [
    {
     "name": "stdout",
     "output_type": "stream",
     "text": [
      "The solution at t=1 is: 0.4463129088\n"
     ]
    }
   ],
   "source": [
    "def f(t, u):\n",
    "    return -2*u + 1\n",
    "\n",
    "# Define the time points and initial values\n",
    "t = linspace(0, 1, 11)\n",
    "u0 = array([0])\n",
    "\n",
    "# Use the euler function to solve the ODE\n",
    "U = euler(f, t, u0)\n",
    "\n",
    "# Print the solution at the final time point\n",
    "print(\"The solution at t=1 is:\", U[0,-1])\n"
   ]
  }
 ],
 "metadata": {
  "kernelspec": {
   "display_name": "Python 3",
   "language": "python",
   "name": "python3"
  },
  "language_info": {
   "codemirror_mode": {
    "name": "ipython",
    "version": 3
   },
   "file_extension": ".py",
   "mimetype": "text/x-python",
   "name": "python",
   "nbconvert_exporter": "python",
   "pygments_lexer": "ipython3",
   "version": "3.10.11"
  },
  "orig_nbformat": 4
 },
 "nbformat": 4,
 "nbformat_minor": 2
}
