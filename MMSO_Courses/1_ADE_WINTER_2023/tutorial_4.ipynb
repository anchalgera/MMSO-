{
 "cells": [
  {
   "cell_type": "code",
   "execution_count": 7,
   "metadata": {},
   "outputs": [
    {
     "name": "stdout",
     "output_type": "stream",
     "text": [
      "xn =  0.64471\n",
      "fn =  0.6447099872471284\n"
     ]
    }
   ],
   "source": [
    "import numpy as np\n",
    "import math as m\n",
    "\n",
    "def fixed_point_iteration(f, x0, tol=1e-6, maxiter=200):\n",
    "    x_current = x0\n",
    "    i=0\n",
    "    while i < maxiter:\n",
    "        x_next = f(x_current)\n",
    "        if abs(x_next - x_current) < tol: \n",
    "            return round(x_next, 5)\n",
    "        x_current = x_next\n",
    "        i += 1\n",
    "    return round(f(x_current))\n",
    "\n",
    "def f(x):\n",
    "    return np.cos(x) / np.exp(x/3)\n",
    "\n",
    "x0 = -1\n",
    "xn = fixed_point_iteration(f, x0)\n",
    "print(\"xn = \", xn)\n",
    "print(\"fn = \", f(xn))"
   ]
  },
  {
   "cell_type": "code",
   "execution_count": null,
   "metadata": {},
   "outputs": [],
   "source": [
    "# while\n",
    "# abs(f(x_old) - f(x_new)) > 5e-6: \n",
    "# x_new = x_old"
   ]
  }
 ],
 "metadata": {
  "kernelspec": {
   "display_name": "Python 3",
   "language": "python",
   "name": "python3"
  },
  "language_info": {
   "codemirror_mode": {
    "name": "ipython",
    "version": 3
   },
   "file_extension": ".py",
   "mimetype": "text/x-python",
   "name": "python",
   "nbconvert_exporter": "python",
   "pygments_lexer": "ipython3",
   "version": "3.10.11"
  }
 },
 "nbformat": 4,
 "nbformat_minor": 2
}
