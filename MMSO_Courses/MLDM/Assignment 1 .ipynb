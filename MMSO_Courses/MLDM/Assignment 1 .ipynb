{
 "cells": [
  {
   "cell_type": "markdown",
   "id": "2c428be4",
   "metadata": {},
   "source": [
    "## Mean "
   ]
  },
  {
   "cell_type": "code",
   "execution_count": 2,
   "id": "7f5b1efe",
   "metadata": {},
   "outputs": [
    {
     "data": {
      "text/plain": [
       "26.666666666666668"
      ]
     },
     "execution_count": 2,
     "metadata": {},
     "output_type": "execute_result"
    }
   ],
   "source": [
    "import numpy as np\n",
    "import math\n",
    "x = np.array([81,6,30,48,48,3,31,4,26,28,14,1])\n",
    "Summation_x = sum(x)\n",
    "n = len(x)\n",
    "mean = Summation_x/n\n",
    "mean"
   ]
  },
  {
   "cell_type": "markdown",
   "id": "b8ce8c0b",
   "metadata": {},
   "source": [
    "## Meadian"
   ]
  },
  {
   "cell_type": "code",
   "execution_count": 3,
   "id": "6d32dc1b",
   "metadata": {},
   "outputs": [],
   "source": [
    "import numpy as np"
   ]
  },
  {
   "cell_type": "code",
   "execution_count": 4,
   "id": "7cd0cd77",
   "metadata": {},
   "outputs": [],
   "source": [
    "x = np.array([23,1,33,23,48,53,30,24,39,1]) "
   ]
  },
  {
   "cell_type": "code",
   "execution_count": 5,
   "id": "fb8dcb01",
   "metadata": {},
   "outputs": [],
   "source": [
    "x_sorted = np.sort(x)"
   ]
  },
  {
   "cell_type": "code",
   "execution_count": 6,
   "id": "eac3743f",
   "metadata": {},
   "outputs": [
    {
     "name": "stdout",
     "output_type": "stream",
     "text": [
      "[ 1  1 23 23 24 30 33 39 48 53]\n"
     ]
    }
   ],
   "source": [
    "print(x_sorted)"
   ]
  },
  {
   "cell_type": "markdown",
   "id": "38cfe5a4",
   "metadata": {},
   "source": [
    "## Argmin & Argmax"
   ]
  },
  {
   "cell_type": "code",
   "execution_count": 7,
   "id": "a4697135",
   "metadata": {},
   "outputs": [],
   "source": [
    "import numpy as np"
   ]
  },
  {
   "cell_type": "code",
   "execution_count": 8,
   "id": "7746a7f5",
   "metadata": {},
   "outputs": [],
   "source": [
    "arr = np.array([-1,-0.5,0,0.5,1])"
   ]
  },
  {
   "cell_type": "code",
   "execution_count": 9,
   "id": "40bb9ac5",
   "metadata": {},
   "outputs": [],
   "source": [
    "y = 1 + np.exp(arr)"
   ]
  },
  {
   "cell_type": "code",
   "execution_count": 10,
   "id": "fa596081",
   "metadata": {},
   "outputs": [
    {
     "data": {
      "text/plain": [
       "array([1.36787944, 1.60653066, 2.        , 2.64872127, 3.71828183])"
      ]
     },
     "execution_count": 10,
     "metadata": {},
     "output_type": "execute_result"
    }
   ],
   "source": [
    "y"
   ]
  },
  {
   "cell_type": "markdown",
   "id": "dcc3bf94",
   "metadata": {},
   "source": [
    "# Coding part"
   ]
  },
  {
   "cell_type": "code",
   "execution_count": 11,
   "id": "9e00898f",
   "metadata": {},
   "outputs": [],
   "source": [
    "from datetime import datetime\n",
    "\n",
    "class User: \n",
    "    def __init__(self,firstname,dateOfBirth):\n",
    "        self.firstname = firstname\n",
    "    \n",
    "        self.dateOfBirth = datetime.strptime(dateOfBirth, \"%d-%m-%Y\")\n",
    "    \n",
    "    def getFirstname(self):\n",
    "        return self.firstname\n",
    "    \n",
    "    def setFirstname(self,firstname):\n",
    "        self.firstname = firstname\n",
    "        \n",
    "    def getAge(self):\n",
    "        currentYear = datetime.now().year\n",
    "        return currentYear - self.dateOfBirth.year"
   ]
  },
  {
   "cell_type": "code",
   "execution_count": 12,
   "id": "cc874c84",
   "metadata": {},
   "outputs": [
    {
     "name": "stdout",
     "output_type": "stream",
     "text": [
      "User 1 --->Firstname: Azeddine --- Age: 25\n",
      "User 1 ---> New firstname: Zeyd\n"
     ]
    }
   ],
   "source": [
    "user1 = User(\"Azeddine\", \"01-01-1998\")\n",
    "user1_firstname = user1.getFirstname()\n",
    "user1_age = user1.getAge()\n",
    "\n",
    "print(\"User 1 --->Firstname: {0} --- Age: {1}\".format(user1_firstname, user1_age))\n",
    "\n",
    "user1.setFirstname(\"Zeyd\")\n",
    "user1_firstname = user1.getFirstname()\n",
    "\n",
    "print(\"User 1 ---> New firstname: {0}\".format(user1_firstname))"
   ]
  },
  {
   "cell_type": "code",
   "execution_count": 13,
   "id": "650d9190",
   "metadata": {},
   "outputs": [
    {
     "data": {
      "text/html": [
       "<div>\n",
       "<style scoped>\n",
       "    .dataframe tbody tr th:only-of-type {\n",
       "        vertical-align: middle;\n",
       "    }\n",
       "\n",
       "    .dataframe tbody tr th {\n",
       "        vertical-align: top;\n",
       "    }\n",
       "\n",
       "    .dataframe thead th {\n",
       "        text-align: right;\n",
       "    }\n",
       "</style>\n",
       "<table border=\"1\" class=\"dataframe\">\n",
       "  <thead>\n",
       "    <tr style=\"text-align: right;\">\n",
       "      <th></th>\n",
       "      <th>y_original</th>\n",
       "      <th>y_predicted</th>\n",
       "      <th>sqrt(y)</th>\n",
       "    </tr>\n",
       "  </thead>\n",
       "  <tbody>\n",
       "    <tr>\n",
       "      <th>0</th>\n",
       "      <td>3.888889</td>\n",
       "      <td>5.717660</td>\n",
       "      <td>1.972027</td>\n",
       "    </tr>\n",
       "    <tr>\n",
       "      <th>1</th>\n",
       "      <td>4.555556</td>\n",
       "      <td>6.365723</td>\n",
       "      <td>2.134375</td>\n",
       "    </tr>\n",
       "    <tr>\n",
       "      <th>2</th>\n",
       "      <td>5.222222</td>\n",
       "      <td>7.013786</td>\n",
       "      <td>2.285218</td>\n",
       "    </tr>\n",
       "    <tr>\n",
       "      <th>3</th>\n",
       "      <td>5.888889</td>\n",
       "      <td>7.661848</td>\n",
       "      <td>2.426703</td>\n",
       "    </tr>\n",
       "    <tr>\n",
       "      <th>4</th>\n",
       "      <td>6.555556</td>\n",
       "      <td>8.309911</td>\n",
       "      <td>2.560382</td>\n",
       "    </tr>\n",
       "    <tr>\n",
       "      <th>...</th>\n",
       "      <td>...</td>\n",
       "      <td>...</td>\n",
       "      <td>...</td>\n",
       "    </tr>\n",
       "    <tr>\n",
       "      <th>295</th>\n",
       "      <td>200.555556</td>\n",
       "      <td>196.896143</td>\n",
       "      <td>14.161764</td>\n",
       "    </tr>\n",
       "    <tr>\n",
       "      <th>296</th>\n",
       "      <td>201.222222</td>\n",
       "      <td>197.544205</td>\n",
       "      <td>14.185282</td>\n",
       "    </tr>\n",
       "    <tr>\n",
       "      <th>297</th>\n",
       "      <td>201.888889</td>\n",
       "      <td>198.192268</td>\n",
       "      <td>14.208761</td>\n",
       "    </tr>\n",
       "    <tr>\n",
       "      <th>298</th>\n",
       "      <td>1.888889</td>\n",
       "      <td>198.840331</td>\n",
       "      <td>1.374369</td>\n",
       "    </tr>\n",
       "    <tr>\n",
       "      <th>299</th>\n",
       "      <td>1.888889</td>\n",
       "      <td>199.488393</td>\n",
       "      <td>1.374369</td>\n",
       "    </tr>\n",
       "  </tbody>\n",
       "</table>\n",
       "<p>300 rows × 3 columns</p>\n",
       "</div>"
      ],
      "text/plain": [
       "     y_original  y_predicted    sqrt(y)\n",
       "0      3.888889     5.717660   1.972027\n",
       "1      4.555556     6.365723   2.134375\n",
       "2      5.222222     7.013786   2.285218\n",
       "3      5.888889     7.661848   2.426703\n",
       "4      6.555556     8.309911   2.560382\n",
       "..          ...          ...        ...\n",
       "295  200.555556   196.896143  14.161764\n",
       "296  201.222222   197.544205  14.185282\n",
       "297  201.888889   198.192268  14.208761\n",
       "298    1.888889   198.840331   1.374369\n",
       "299    1.888889   199.488393   1.374369\n",
       "\n",
       "[300 rows x 3 columns]"
      ]
     },
     "execution_count": 13,
     "metadata": {},
     "output_type": "execute_result"
    }
   ],
   "source": [
    "import pandas as pd\n",
    "df = pd.read_csv(\"data.csv\")\n",
    "df = pd.DataFrame(df, columns = ['y_original','y_predicted'])\n",
    "df['sqrt(y)'] = df['y_original']**(0.5)\n",
    "df"
   ]
  }
 ],
 "metadata": {
  "kernelspec": {
   "display_name": "base",
   "language": "python",
   "name": "python3"
  },
  "language_info": {
   "codemirror_mode": {
    "name": "ipython",
    "version": 3
   },
   "file_extension": ".py",
   "mimetype": "text/x-python",
   "name": "python",
   "nbconvert_exporter": "python",
   "pygments_lexer": "ipython3",
   "version": "3.9.7"
  },
  "vscode": {
   "interpreter": {
    "hash": "9157db55b2a39bf322fae47794983c77591eed158ff3422655bab9d76d44c61c"
   }
  }
 },
 "nbformat": 4,
 "nbformat_minor": 5
}
