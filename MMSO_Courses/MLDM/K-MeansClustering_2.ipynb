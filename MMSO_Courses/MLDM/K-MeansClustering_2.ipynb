{
 "cells": [
  {
   "cell_type": "code",
   "execution_count": 1,
   "id": "e79d872c-567c-4c2f-9c3c-f46e06afdfb8",
   "metadata": {},
   "outputs": [],
   "source": [
    "import pandas as pd\n",
    "import matplotlib.pyplot as plt\n",
    "import numpy as np\n",
    "\n",
    "#df = pd.read_csv(\"Categorical.csv\")\n",
    "\n",
    "#df.head(15)"
   ]
  },
  {
   "cell_type": "code",
   "execution_count": 2,
   "id": "da34e4a2-8bf4-4746-95ad-0e258852333b",
   "metadata": {},
   "outputs": [],
   "source": [
    "#df = df.loc[:, ['Longitude', 'Latitude']]\n",
    "\n",
    "#df"
   ]
  },
  {
   "cell_type": "code",
   "execution_count": 3,
   "id": "4f733863-5483-415a-9755-3ae48e436d92",
   "metadata": {},
   "outputs": [
    {
     "data": {
      "image/png": "[encoded data removed]",
      "text/plain": [
       "<Figure size 432x288 with 1 Axes>"
      ]
     },
     "metadata": {
      "needs_background": "light"
     },
     "output_type": "display_data"
    },
    {
     "data": {
      "text/plain": [
       "array([[0.33333333, 0.        ],\n",
       "       [0.40740741, 0.87323944],\n",
       "       [1.        , 1.        ],\n",
       "       [0.62962963, 0.        ],\n",
       "       [0.25925926, 0.69014085],\n",
       "       [0.81481481, 0.        ],\n",
       "       [0.48148148, 0.09859155],\n",
       "       [0.7037037 , 0.11267606],\n",
       "       [0.        , 0.77464789]])"
      ]
     },
     "execution_count": 3,
     "metadata": {},
     "output_type": "execute_result"
    }
   ],
   "source": [
    "X_norm = np.array([[10,125],[12,187], [28,196], [18,125], [8,174], [23,125], [14,132],\n",
    "                [20,133], [1,180]])\n",
    "\n",
    "from sklearn.preprocessing import minmax_scale\n",
    "\n",
    "column_1 = minmax_scale(X_norm[:,0], feature_range=(0,1))#minmax_scale(sample[:,0], feature_range=(0,1)) #first column you don't want to scale\n",
    "column_2 = minmax_scale(X_norm[:,1], feature_range=(0,1)) #second column you want to scale\n",
    "X_norm = np.stack((column_1, column_2), axis=1) #stack both columns to get a 2d array\n",
    "\n",
    "\n",
    "plt.scatter(X_norm[:,0], X_norm[:,1])\n",
    "#plt.xlim(-180,180)\n",
    "#plt.ylim(-90, 90)\n",
    "plt.xlabel('Longitude')\n",
    "plt.ylabel('Latitude')\n",
    "plt.show()\n",
    "X_norm"
   ]
  },
  {
   "cell_type": "code",
   "execution_count": 4,
   "id": "13e4aa24",
   "metadata": {},
   "outputs": [
    {
     "data": {
      "text/html": [
       "<div>\n",
       "<style scoped>\n",
       "    .dataframe tbody tr th:only-of-type {\n",
       "        vertical-align: middle;\n",
       "    }\n",
       "\n",
       "    .dataframe tbody tr th {\n",
       "        vertical-align: top;\n",
       "    }\n",
       "\n",
       "    .dataframe thead th {\n",
       "        text-align: right;\n",
       "    }\n",
       "</style>\n",
       "<table border=\"1\" class=\"dataframe\">\n",
       "  <thead>\n",
       "    <tr style=\"text-align: right;\">\n",
       "      <th></th>\n",
       "      <th>Column_A</th>\n",
       "      <th>Column_B</th>\n",
       "    </tr>\n",
       "  </thead>\n",
       "  <tbody>\n",
       "    <tr>\n",
       "      <th>0</th>\n",
       "      <td>0.333333</td>\n",
       "      <td>0.000000</td>\n",
       "    </tr>\n",
       "    <tr>\n",
       "      <th>1</th>\n",
       "      <td>0.407407</td>\n",
       "      <td>0.873239</td>\n",
       "    </tr>\n",
       "    <tr>\n",
       "      <th>2</th>\n",
       "      <td>1.000000</td>\n",
       "      <td>1.000000</td>\n",
       "    </tr>\n",
       "    <tr>\n",
       "      <th>3</th>\n",
       "      <td>0.629630</td>\n",
       "      <td>0.000000</td>\n",
       "    </tr>\n",
       "    <tr>\n",
       "      <th>4</th>\n",
       "      <td>0.259259</td>\n",
       "      <td>0.690141</td>\n",
       "    </tr>\n",
       "    <tr>\n",
       "      <th>5</th>\n",
       "      <td>0.814815</td>\n",
       "      <td>0.000000</td>\n",
       "    </tr>\n",
       "    <tr>\n",
       "      <th>6</th>\n",
       "      <td>0.481481</td>\n",
       "      <td>0.098592</td>\n",
       "    </tr>\n",
       "    <tr>\n",
       "      <th>7</th>\n",
       "      <td>0.703704</td>\n",
       "      <td>0.112676</td>\n",
       "    </tr>\n",
       "    <tr>\n",
       "      <th>8</th>\n",
       "      <td>0.000000</td>\n",
       "      <td>0.774648</td>\n",
       "    </tr>\n",
       "  </tbody>\n",
       "</table>\n",
       "</div>"
      ],
      "text/plain": [
       "   Column_A  Column_B\n",
       "0  0.333333  0.000000\n",
       "1  0.407407  0.873239\n",
       "2  1.000000  1.000000\n",
       "3  0.629630  0.000000\n",
       "4  0.259259  0.690141\n",
       "5  0.814815  0.000000\n",
       "6  0.481481  0.098592\n",
       "7  0.703704  0.112676\n",
       "8  0.000000  0.774648"
      ]
     },
     "execution_count": 4,
     "metadata": {},
     "output_type": "execute_result"
    }
   ],
   "source": [
    "df = pd.DataFrame(X_norm, columns = ['Column_A','Column_B'])\n",
    "df"
   ]
  },
  {
   "cell_type": "code",
   "execution_count": 5,
   "id": "39393441-ba9c-4937-9f85-52c374fafbd9",
   "metadata": {},
   "outputs": [],
   "source": [
    "def calculate_cost(X_norm, centroids, cluster):\n",
    "  sum = 0\n",
    "  for i, val in enumerate(X_norm):\n",
    "    sum += np.sqrt((centroids[int(cluster[i]), 0]-val[0])**2 +(centroids[int(cluster[i]), 1]-val[1])**2)\n",
    "  return sum"
   ]
  },
  {
   "cell_type": "code",
   "execution_count": 6,
   "id": "d1a584e6-524a-4f10-9be0-0808868c73a2",
   "metadata": {},
   "outputs": [],
   "source": [
    "def kmeans(X_norm, k):\n",
    "  diff = 1\n",
    "  cluster = np.zeros(X_norm.shape[0])\n",
    "  centroids = df.sample(n=k).values\n",
    "  while diff:\n",
    "     # for each observation\n",
    "     for i, row in enumerate(X_norm):\n",
    "         mn_dist = float('inf')\n",
    "        # dist of the point from all centroids\n",
    "         for idx, centroid in enumerate(centroids):\n",
    "            d = np.sqrt((centroid[0]-row[0])**2 + (centroid[1]-row[1])**2)\n",
    "            # store closest centroid\n",
    "            if mn_dist > d:\n",
    "               mn_dist = d\n",
    "               cluster[i] = idx\n",
    "     new_centroids = pd.DataFrame(X).groupby(by=cluster).mean().values\n",
    "     # if centroids are same then leave\n",
    "     if np.count_nonzero(centroids-new_centroids) == 0:\n",
    "        diff = 0\n",
    "     else:\n",
    "        centroids = new_centroids\n",
    "  return centroids, cluster"
   ]
  },
  {
   "cell_type": "code",
   "execution_count": 7,
   "id": "771f11dd-6c58-4524-a26a-82ffcf6941cd",
   "metadata": {},
   "outputs": [
    {
     "ename": "NameError",
     "evalue": "name 'X' is not defined",
     "output_type": "error",
     "traceback": [
      "\u001b[1;31m---------------------------------------------------------------------------\u001b[0m",
      "\u001b[1;31mNameError\u001b[0m                                 Traceback (most recent call last)",
      "\u001b[1;32m~\\AppData\\Local\\Temp/ipykernel_21360/2941793902.py\u001b[0m in \u001b[0;36m<module>\u001b[1;34m\u001b[0m\n\u001b[0;32m      1\u001b[0m \u001b[0mk\u001b[0m \u001b[1;33m=\u001b[0m \u001b[1;36m2\u001b[0m\u001b[1;33m\u001b[0m\u001b[1;33m\u001b[0m\u001b[0m\n\u001b[1;32m----> 2\u001b[1;33m \u001b[0mcentroids\u001b[0m\u001b[1;33m,\u001b[0m \u001b[0mcluster\u001b[0m \u001b[1;33m=\u001b[0m \u001b[0mkmeans\u001b[0m\u001b[1;33m(\u001b[0m\u001b[0mX_norm\u001b[0m\u001b[1;33m,\u001b[0m \u001b[0mk\u001b[0m\u001b[1;33m)\u001b[0m\u001b[1;33m\u001b[0m\u001b[1;33m\u001b[0m\u001b[0m\n\u001b[0m",
      "\u001b[1;32m~\\AppData\\Local\\Temp/ipykernel_21360/4047526746.py\u001b[0m in \u001b[0;36mkmeans\u001b[1;34m(X_norm, k)\u001b[0m\n\u001b[0;32m     14\u001b[0m                \u001b[0mmn_dist\u001b[0m \u001b[1;33m=\u001b[0m \u001b[0md\u001b[0m\u001b[1;33m\u001b[0m\u001b[1;33m\u001b[0m\u001b[0m\n\u001b[0;32m     15\u001b[0m                \u001b[0mcluster\u001b[0m\u001b[1;33m[\u001b[0m\u001b[0mi\u001b[0m\u001b[1;33m]\u001b[0m \u001b[1;33m=\u001b[0m \u001b[0midx\u001b[0m\u001b[1;33m\u001b[0m\u001b[1;33m\u001b[0m\u001b[0m\n\u001b[1;32m---> 16\u001b[1;33m      \u001b[0mnew_centroids\u001b[0m \u001b[1;33m=\u001b[0m \u001b[0mpd\u001b[0m\u001b[1;33m.\u001b[0m\u001b[0mDataFrame\u001b[0m\u001b[1;33m(\u001b[0m\u001b[0mX\u001b[0m\u001b[1;33m)\u001b[0m\u001b[1;33m.\u001b[0m\u001b[0mgroupby\u001b[0m\u001b[1;33m(\u001b[0m\u001b[0mby\u001b[0m\u001b[1;33m=\u001b[0m\u001b[0mcluster\u001b[0m\u001b[1;33m)\u001b[0m\u001b[1;33m.\u001b[0m\u001b[0mmean\u001b[0m\u001b[1;33m(\u001b[0m\u001b[1;33m)\u001b[0m\u001b[1;33m.\u001b[0m\u001b[0mvalues\u001b[0m\u001b[1;33m\u001b[0m\u001b[1;33m\u001b[0m\u001b[0m\n\u001b[0m\u001b[0;32m     17\u001b[0m      \u001b[1;31m# if centroids are same then leave\u001b[0m\u001b[1;33m\u001b[0m\u001b[1;33m\u001b[0m\u001b[0m\n\u001b[0;32m     18\u001b[0m      \u001b[1;32mif\u001b[0m \u001b[0mnp\u001b[0m\u001b[1;33m.\u001b[0m\u001b[0mcount_nonzero\u001b[0m\u001b[1;33m(\u001b[0m\u001b[0mcentroids\u001b[0m\u001b[1;33m-\u001b[0m\u001b[0mnew_centroids\u001b[0m\u001b[1;33m)\u001b[0m \u001b[1;33m==\u001b[0m \u001b[1;36m0\u001b[0m\u001b[1;33m:\u001b[0m\u001b[1;33m\u001b[0m\u001b[1;33m\u001b[0m\u001b[0m\n",
      "\u001b[1;31mNameError\u001b[0m: name 'X' is not defined"
     ]
    }
   ],
   "source": [
    "k = 2\n",
    "centroids, cluster = kmeans(X_norm, k)"
   ]
  },
  {
   "cell_type": "code",
   "execution_count": null,
   "id": "3b369f8d-5674-48ad-b730-ccbefeaa6b56",
   "metadata": {},
   "outputs": [],
   "source": [
    "centroids"
   ]
  },
  {
   "cell_type": "code",
   "execution_count": null,
   "id": "e6fc1493-b30f-4072-9e00-4fa675563979",
   "metadata": {},
   "outputs": [],
   "source": [
    "color=['red','blue','green','cyan']\n",
    "labels=['cluster1','cluster2','cluster3','cluster4']\n",
    "\n",
    "for l in range(k):\n",
    "    plt.scatter(X_norm[l+1][:,0], X_norm[l+1][:, 1],s=10,c=color[l],label=labels[l])\n",
    "    plt.scatter(Output[k+1][:,0],Output[k+1][:,1],c=color[k],label=labels[k])\n",
    "\n",
    "plt.scatter(X_norm[:,0], X_norm[:, 1],s=10,c='black',label='Centroids')\n",
    "plt.scatter(centroids[:,0], centroids[:, 1], s=100, color='y')\n",
    "plt.scatter(centroids[:,0], centroids[:, 1],s=100,c='yellow',label='centroids')\n",
    "plt.xlabel('Longitude')\n",
    "plt.ylabel('Latitude')\n",
    "plt.show()"
   ]
  },
  {
   "cell_type": "code",
   "execution_count": null,
   "id": "1933fe4c-0346-44ee-8608-f38794531466",
   "metadata": {},
   "outputs": [],
   "source": [
    "df['cluster']= cluster\n",
    "df.head()"
   ]
  },
  {
   "cell_type": "code",
   "execution_count": null,
   "id": "0eb21091-4d4d-4537-8611-cff4e4056420",
   "metadata": {},
   "outputs": [],
   "source": [
    "centroids"
   ]
  },
  {
   "cell_type": "code",
   "execution_count": null,
   "id": "f4400e1d-7e92-4cb5-8475-5c894b6433ae",
   "metadata": {},
   "outputs": [],
   "source": [
    "df1 = df[df.cluster==0]\n",
    "df2 = df[df.cluster==1]\n",
    "df3 = df[df.cluster==2]\n",
    "df4 = df[df.cluster==3]\n",
    "\n",
    "plt.scatter(df1.Longitude,df1['Latitude'],color='red',label='cluster 01')\n",
    "plt.scatter(df2.Longitude,df2['Latitude'],color='black',label='cluster 02')\n",
    "plt.scatter(df3.Longitude,df3['Latitude'],color='blue',label='cluster 03')\n",
    "plt.scatter(df4.Longitude,df4['Latitude'],color='purple',label='cluster 04')\n",
    "plt.scatter(centroids[:,0],centroids[:,1],color='yellow',marker='*',label='centroid')\n",
    "plt.xlabel('Longitude')\n",
    "plt.ylabel('Latitude')\n",
    "plt.legend()"
   ]
  },
  {
   "cell_type": "code",
   "execution_count": null,
   "id": "8526b92a-2ab6-44ca-90c0-de7d3a9d2097",
   "metadata": {},
   "outputs": [],
   "source": []
  }
 ],
 "metadata": {
  "kernelspec": {
   "display_name": "Python 3 (ipykernel)",
   "language": "python",
   "name": "python3"
  },
  "language_info": {
   "codemirror_mode": {
    "name": "ipython",
    "version": 3
   },
   "file_extension": ".py",
   "mimetype": "text/x-python",
   "name": "python",
   "nbconvert_exporter": "python",
   "pygments_lexer": "ipython3",
   "version": "3.9.7"
  }
 },
 "nbformat": 4,
 "nbformat_minor": 5
}
