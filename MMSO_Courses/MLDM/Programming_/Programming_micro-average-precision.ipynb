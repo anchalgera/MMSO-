{
 "cells": [
  {
   "cell_type": "code",
   "execution_count": 6,
   "id": "d2a2321d-ecc7-4043-8064-c213804cd7e2",
   "metadata": {},
   "outputs": [
    {
     "name": "stdout",
     "output_type": "stream",
     "text": [
      "Micro Average Precision \n",
      " 0.8359375\n"
     ]
    }
   ],
   "source": [
    "import numpy as np\n",
    "import pandas as pd\n",
    "\n",
    "class Evaluation:\n",
    "    TP = 0\n",
    "    FP = 0\n",
    "    FN = 0\n",
    "    TN = 0\n",
    "     \n",
    "    # parameterized constructor\n",
    "    def __init__(self, ground, predicted):\n",
    "        self.g = ground\n",
    "        self.p = predicted\n",
    "        \n",
    "        self.conf_mat = np.array([self.g, self.p])\n",
    "        self.TP = np.diag(self.conf_mat)\n",
    "        self.FP = np.sum(self.conf_mat, axis=0) - self.TP\n",
    "        self.FN = np.sum(self.conf_mat, axis=1) - self.TP\n",
    "        self.TN = self.conf_mat.sum() - (self.FP + self.FN + self.TP)\n",
    "   \n",
    " \n",
    "    def getPrecision(self):\n",
    "        self.Precision = self.TP/(self.TP+self.FP)\n",
    "    \n",
    "    def get_micro_average_precision(self):\n",
    "        self.Mic_av_precision = (sum(self.TP)/(sum(self.TP)+sum(self.FN)))\n",
    "        \n",
    "    def printEvaluation(self):\n",
    "        print(\"Micro Average Precision \\n \" + str(self.Mic_av_precision))\n",
    "\n",
    "        \n",
    "# creating object of the class\n",
    "# this will invoke parameterized constructor\n",
    "calc = Eval([46, 12], [9, 61])\n",
    " \n",
    "# Perform getPrecision and Macro Average Precision\n",
    "calc.getPrecision()\n",
    "\n",
    "calc.get_mic_av_precision()\n",
    "\n",
    "# display result\n",
    "calc.printEvaluation()"
   ]
  },
  {
   "cell_type": "code",
   "execution_count": null,
   "id": "c2af24b6-50ab-4310-a36d-305c533b0cc2",
   "metadata": {},
   "outputs": [],
   "source": []
  }
 ],
 "metadata": {
  "kernelspec": {
   "display_name": "Python 3 (ipykernel)",
   "language": "python",
   "name": "python3"
  },
  "language_info": {
   "codemirror_mode": {
    "name": "ipython",
    "version": 3
   },
   "file_extension": ".py",
   "mimetype": "text/x-python",
   "name": "python",
   "nbconvert_exporter": "python",
   "pygments_lexer": "ipython3",
   "version": "3.9.7"
  }
 },
 "nbformat": 4,
 "nbformat_minor": 5
}
