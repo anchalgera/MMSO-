{
 "cells": [
  {
   "cell_type": "markdown",
   "id": "6513ba7b",
   "metadata": {},
   "source": [
    "# Assignment 12\n",
    "# Md. Shariar Imroze Khan\n",
    "# Matriculation Number: 220202354"
   ]
  },
  {
   "cell_type": "code",
   "execution_count": 1,
   "id": "d2a2321d-ecc7-4043-8064-c213804cd7e2",
   "metadata": {},
   "outputs": [],
   "source": [
    "import numpy as np\n",
    "import pandas as pd\n",
    "\n",
    "class Eval:\n",
    "    TP = 0\n",
    "    FP = 0\n",
    "    FN = 0\n",
    "    TN = 0\n",
    "     \n",
    "    # parameterized constructor\n",
    "    def __init__(self, ground, predicted):\n",
    "        self.g = ground\n",
    "        self.p = predicted\n",
    "        self.conf_mat = np.array([self.g, self.p])\n",
    "        self.TP = np.diag(self.conf_mat)\n",
    "        self.FP = np.sum(self.conf_mat, axis=0) - self.TP\n",
    "        self.FN = np.sum(self.conf_mat, axis=1) - self.TP\n",
    "        self.TN = self.conf_mat.sum() - (self.FP + self.FN + self.TP)\n",
    "   \n",
    " \n",
    "    def getPrecision(self):\n",
    "        self.Precision = self.TP/(self.TP+self.FP) * 100\n",
    "    \n",
    "    def getRecall(self):\n",
    "        self.Recall = self.TP/(self.TP+self.FN) * 100\n",
    "        \n",
    "    def getAccuracy(self):\n",
    "        self.Accuracy = (self.TP+self.TN)/(self.TP+self.TN+self.FP+self.FN) * 100\n",
    "    \n",
    "    def getF1Score(self):\n",
    "        self.F1Score = self.TP/(self.TP+(0.5*(self.FP+self.FN))) * 100\n",
    "        \n",
    "    def printEval(self):\n",
    "        print(\"Confusion matrix  \\n \" + str(self.conf_mat))\n",
    "        \n",
    "        \n",
    "        \n",
    "        df = pd.DataFrame(self.Precision, columns = ['Precision'])\n",
    "        df.insert(1, \"Recall\", self.Recall, True)\n",
    "        df.insert(2, \"Accuracy\", self.Accuracy, True)\n",
    "        df.insert(3, \"F1Score\", self.F1Score, True)\n",
    "    \n",
    "        print(\"\\n\", df)\n",
    "       \n",
    "        \n",
    "\n",
    "\n"
   ]
  },
  {
   "cell_type": "code",
   "execution_count": 2,
   "id": "c158b587-e875-4f1f-8eae-a61cc212dd09",
   "metadata": {
    "scrolled": true
   },
   "outputs": [
    {
     "data": {
      "text/html": [
       "<div>\n",
       "<style scoped>\n",
       "    .dataframe tbody tr th:only-of-type {\n",
       "        vertical-align: middle;\n",
       "    }\n",
       "\n",
       "    .dataframe tbody tr th {\n",
       "        vertical-align: top;\n",
       "    }\n",
       "\n",
       "    .dataframe thead th {\n",
       "        text-align: right;\n",
       "    }\n",
       "</style>\n",
       "<table border=\"1\" class=\"dataframe\">\n",
       "  <thead>\n",
       "    <tr style=\"text-align: right;\">\n",
       "      <th>Predicted</th>\n",
       "      <th>0</th>\n",
       "      <th>1</th>\n",
       "    </tr>\n",
       "    <tr>\n",
       "      <th>Actual</th>\n",
       "      <th></th>\n",
       "      <th></th>\n",
       "    </tr>\n",
       "  </thead>\n",
       "  <tbody>\n",
       "    <tr>\n",
       "      <th>0</th>\n",
       "      <td>2</td>\n",
       "      <td>5</td>\n",
       "    </tr>\n",
       "    <tr>\n",
       "      <th>1</th>\n",
       "      <td>4</td>\n",
       "      <td>9</td>\n",
       "    </tr>\n",
       "  </tbody>\n",
       "</table>\n",
       "</div>"
      ],
      "text/plain": [
       "Predicted  0  1\n",
       "Actual         \n",
       "0          2  5\n",
       "1          4  9"
      ]
     },
     "execution_count": 2,
     "metadata": {},
     "output_type": "execute_result"
    }
   ],
   "source": [
    "# array of actual values\n",
    "ground = [0, 1, 0, 0, 1, 0, 0, 1, 0, 0, 1, 1, 1, 1, 1, 1, 1, 1, 1, 1]\n",
    "\n",
    "# array of predicted values\n",
    "predicted = [0, 0, 1, 1, 0, 1, 1, 0, 0, 1, 1, 0, 1, 1, 1, 1, 1, 1, 1, 1]\n",
    "\n",
    "ground = pd.Series(ground, name='Actual')\n",
    "predicted = pd.Series(predicted, name='Predicted')\n",
    "\n",
    "#create confusion matrix\n",
    "df = pd.crosstab(ground, predicted)\n",
    "\n",
    "df"
   ]
  },
  {
   "cell_type": "code",
   "execution_count": 3,
   "id": "277d2c83-967b-4f40-bbb7-1550d2711567",
   "metadata": {},
   "outputs": [],
   "source": [
    "ground, predicted = df.to_numpy()"
   ]
  },
  {
   "cell_type": "code",
   "execution_count": 4,
   "id": "e4e898bb-1ed2-4ba4-be70-c461d1cbe5c6",
   "metadata": {},
   "outputs": [
    {
     "data": {
      "text/plain": [
       "array([2, 5], dtype=int64)"
      ]
     },
     "execution_count": 4,
     "metadata": {},
     "output_type": "execute_result"
    }
   ],
   "source": [
    "ground"
   ]
  },
  {
   "cell_type": "code",
   "execution_count": 5,
   "id": "69c48530-360e-446e-b7ad-4a4f9b39250b",
   "metadata": {},
   "outputs": [
    {
     "data": {
      "text/plain": [
       "array([4, 9], dtype=int64)"
      ]
     },
     "execution_count": 5,
     "metadata": {},
     "output_type": "execute_result"
    }
   ],
   "source": [
    "predicted"
   ]
  },
  {
   "cell_type": "code",
   "execution_count": 6,
   "id": "c2af24b6-50ab-4310-a36d-305c533b0cc2",
   "metadata": {},
   "outputs": [
    {
     "name": "stdout",
     "output_type": "stream",
     "text": [
      "Confusion matrix  \n",
      " [[2 5]\n",
      " [4 9]]\n",
      "\n",
      "    Precision     Recall  Accuracy    F1Score\n",
      "0  33.333333  28.571429      55.0  30.769231\n",
      "1  64.285714  69.230769      55.0  66.666667\n"
     ]
    }
   ],
   "source": [
    "# creating object of the class\n",
    "# this will invoke parameterized constructor\n",
    "\n",
    "calc = Eval(ground, predicted)\n",
    " \n",
    "# perform Addition\n",
    "calc.getPrecision()\n",
    "calc.getRecall()\n",
    "calc.getAccuracy()\n",
    "calc.getF1Score()\n",
    "\n",
    "# display result\n",
    "calc.printEval()"
   ]
  }
 ],
 "metadata": {
  "kernelspec": {
   "display_name": "Python 3 (ipykernel)",
   "language": "python",
   "name": "python3"
  },
  "language_info": {
   "codemirror_mode": {
    "name": "ipython",
    "version": 3
   },
   "file_extension": ".py",
   "mimetype": "text/x-python",
   "name": "python",
   "nbconvert_exporter": "python",
   "pygments_lexer": "ipython3",
   "version": "3.9.7"
  }
 },
 "nbformat": 4,
 "nbformat_minor": 5
}
