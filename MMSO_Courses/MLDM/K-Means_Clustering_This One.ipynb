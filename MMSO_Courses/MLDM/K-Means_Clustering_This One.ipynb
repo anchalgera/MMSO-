{
 "cells": [
  {
   "cell_type": "code",
   "execution_count": 1,
   "id": "962823ea",
   "metadata": {},
   "outputs": [],
   "source": [
    "import pandas as pd\n",
    "import numpy as np\n",
    "from matplotlib import pyplot as plt\n",
    "import random as rd\n",
    "from sklearn.preprocessing import minmax_scale\n",
    "\n",
    "%matplotlib inline\n"
   ]
  },
  {
   "cell_type": "code",
   "execution_count": 2,
   "id": "b16496b6",
   "metadata": {},
   "outputs": [
    {
     "data": {
      "text/html": [
       "<div>\n",
       "<style scoped>\n",
       "    .dataframe tbody tr th:only-of-type {\n",
       "        vertical-align: middle;\n",
       "    }\n",
       "\n",
       "    .dataframe tbody tr th {\n",
       "        vertical-align: top;\n",
       "    }\n",
       "\n",
       "    .dataframe thead th {\n",
       "        text-align: right;\n",
       "    }\n",
       "</style>\n",
       "<table border=\"1\" class=\"dataframe\">\n",
       "  <thead>\n",
       "    <tr style=\"text-align: right;\">\n",
       "      <th></th>\n",
       "      <th>Column_A</th>\n",
       "      <th>Column_B</th>\n",
       "    </tr>\n",
       "  </thead>\n",
       "  <tbody>\n",
       "    <tr>\n",
       "      <th>0</th>\n",
       "      <td>10</td>\n",
       "      <td>125</td>\n",
       "    </tr>\n",
       "    <tr>\n",
       "      <th>1</th>\n",
       "      <td>12</td>\n",
       "      <td>187</td>\n",
       "    </tr>\n",
       "    <tr>\n",
       "      <th>2</th>\n",
       "      <td>28</td>\n",
       "      <td>196</td>\n",
       "    </tr>\n",
       "    <tr>\n",
       "      <th>3</th>\n",
       "      <td>18</td>\n",
       "      <td>125</td>\n",
       "    </tr>\n",
       "    <tr>\n",
       "      <th>4</th>\n",
       "      <td>8</td>\n",
       "      <td>174</td>\n",
       "    </tr>\n",
       "    <tr>\n",
       "      <th>5</th>\n",
       "      <td>23</td>\n",
       "      <td>125</td>\n",
       "    </tr>\n",
       "    <tr>\n",
       "      <th>6</th>\n",
       "      <td>14</td>\n",
       "      <td>132</td>\n",
       "    </tr>\n",
       "    <tr>\n",
       "      <th>7</th>\n",
       "      <td>20</td>\n",
       "      <td>133</td>\n",
       "    </tr>\n",
       "    <tr>\n",
       "      <th>8</th>\n",
       "      <td>1</td>\n",
       "      <td>180</td>\n",
       "    </tr>\n",
       "  </tbody>\n",
       "</table>\n",
       "</div>"
      ],
      "text/plain": [
       "   Column_A  Column_B\n",
       "0        10       125\n",
       "1        12       187\n",
       "2        28       196\n",
       "3        18       125\n",
       "4         8       174\n",
       "5        23       125\n",
       "6        14       132\n",
       "7        20       133\n",
       "8         1       180"
      ]
     },
     "execution_count": 2,
     "metadata": {},
     "output_type": "execute_result"
    }
   ],
   "source": [
    "X = np.array([[10,125],[12,187], [28,196], [18,125], [8,174], [23,125], [14,132],[20,133], [1,180]])\n",
    "\n",
    "#column_1 = minmax_scale(X[:,0], feature_range=(0,1))#first column you don't want to scale\n",
    "#column_2 = minmax_scale(X[:,1], feature_range=(0,1)) #second column you want to scale\n",
    "\n",
    "#X = np.stack((column_1, column_2), axis=1) #stack both columns to get a 2d array\n",
    "\n",
    "dataset = pd.DataFrame(X, columns = ['Column_A','Column_B'])\n",
    "dataset\n"
   ]
  },
  {
   "cell_type": "code",
   "execution_count": 3,
   "id": "a3403750",
   "metadata": {},
   "outputs": [
    {
     "data": {
      "text/plain": [
       "array([[ 10, 125],\n",
       "       [ 12, 187],\n",
       "       [ 28, 196],\n",
       "       [ 18, 125],\n",
       "       [  8, 174],\n",
       "       [ 23, 125],\n",
       "       [ 14, 132],\n",
       "       [ 20, 133],\n",
       "       [  1, 180]])"
      ]
     },
     "execution_count": 3,
     "metadata": {},
     "output_type": "execute_result"
    }
   ],
   "source": [
    "X = dataset.iloc[:].values\n",
    "X"
   ]
  },
  {
   "cell_type": "code",
   "execution_count": 4,
   "id": "db5bc234",
   "metadata": {},
   "outputs": [],
   "source": [
    "m=X.shape[0] #number of training examples\n",
    "n=X.shape[1] #number of features. Here n=2\n",
    "n_iter = 100"
   ]
  },
  {
   "cell_type": "code",
   "execution_count": 5,
   "id": "67a6abb6",
   "metadata": {},
   "outputs": [
    {
     "data": {
      "text/plain": [
       "9"
      ]
     },
     "execution_count": 5,
     "metadata": {},
     "output_type": "execute_result"
    }
   ],
   "source": [
    "m"
   ]
  },
  {
   "cell_type": "code",
   "execution_count": 6,
   "id": "9c0eea7f",
   "metadata": {},
   "outputs": [
    {
     "data": {
      "text/plain": [
       "2"
      ]
     },
     "execution_count": 6,
     "metadata": {},
     "output_type": "execute_result"
    }
   ],
   "source": [
    "n"
   ]
  },
  {
   "cell_type": "code",
   "execution_count": 7,
   "id": "500439fe",
   "metadata": {},
   "outputs": [],
   "source": [
    "K=2 # number of clusters"
   ]
  },
  {
   "cell_type": "code",
   "execution_count": 8,
   "id": "f16a10db",
   "metadata": {},
   "outputs": [],
   "source": [
    "Centroids=np.array([]).reshape(n,0) \n"
   ]
  },
  {
   "cell_type": "code",
   "execution_count": 9,
   "id": "35e64862",
   "metadata": {},
   "outputs": [],
   "source": [
    "for i in range(K):\n",
    "    rand=rd.randint(0,m-1)\n",
    "    Centroids=np.c_[Centroids,X[rand]]"
   ]
  },
  {
   "cell_type": "code",
   "execution_count": 10,
   "id": "365f1230",
   "metadata": {},
   "outputs": [],
   "source": [
    "Output={}\n"
   ]
  },
  {
   "cell_type": "code",
   "execution_count": 11,
   "id": "b54c986f",
   "metadata": {},
   "outputs": [],
   "source": [
    "EuclidianDistance=np.array([]).reshape(m,0)\n",
    "for k in range(K):\n",
    "        tempDist=np.sum((X-Centroids[:,k])**2,axis=1)\n",
    "        EuclidianDistance=np.c_[EuclidianDistance,tempDist]\n",
    "C=np.argmin(EuclidianDistance,axis=1)+1"
   ]
  },
  {
   "cell_type": "code",
   "execution_count": 12,
   "id": "b634c23c",
   "metadata": {},
   "outputs": [],
   "source": [
    "Y={}\n",
    "for k in range(K):\n",
    "    Y[k+1]=np.array([]).reshape(2,0)\n",
    "for i in range(m):\n",
    "    Y[C[i]]=np.c_[Y[C[i]],X[i]]\n",
    "     \n",
    "for k in range(K):\n",
    "    Y[k+1]=Y[k+1].T\n",
    "    \n",
    "for k in range(K):\n",
    "     Centroids[:,k]=np.mean(Y[k+1],axis=0)"
   ]
  },
  {
   "cell_type": "code",
   "execution_count": 13,
   "id": "e0935fc2",
   "metadata": {},
   "outputs": [],
   "source": [
    "for i in range(n_iter):\n",
    "     #step 2.a\n",
    "      EuclidianDistance=np.array([]).reshape(m,0)\n",
    "      for k in range(K):\n",
    "          tempDist=np.sum((X-Centroids[:,k])**2,axis=1)\n",
    "          EuclidianDistance=np.c_[EuclidianDistance,tempDist]\n",
    "      C=np.argmin(EuclidianDistance,axis=1)+1\n",
    "     #step 2.b\n",
    "      Y={}\n",
    "      for k in range(K):\n",
    "          Y[k+1]=np.array([]).reshape(2,0)\n",
    "      for i in range(m):\n",
    "          Y[C[i]]=np.c_[Y[C[i]],X[i]]\n",
    "     \n",
    "      for k in range(K):\n",
    "          Y[k+1]=Y[k+1].T\n",
    "    \n",
    "      for k in range(K):\n",
    "          Centroids[:,k]=np.mean(Y[k+1],axis=0)\n",
    "      Output=Y"
   ]
  },
  {
   "cell_type": "code",
   "execution_count": 14,
   "id": "24d20154",
   "metadata": {},
   "outputs": [
    {
     "data": {
      "text/plain": [
       "{1: array([[ 10., 125.],\n",
       "        [ 18., 125.],\n",
       "        [ 23., 125.],\n",
       "        [ 14., 132.],\n",
       "        [ 20., 133.]]),\n",
       " 2: array([[ 12., 187.],\n",
       "        [ 28., 196.],\n",
       "        [  8., 174.],\n",
       "        [  1., 180.]])}"
      ]
     },
     "execution_count": 14,
     "metadata": {},
     "output_type": "execute_result"
    }
   ],
   "source": [
    "Output"
   ]
  },
  {
   "cell_type": "code",
   "execution_count": 15,
   "id": "767f712f",
   "metadata": {},
   "outputs": [
    {
     "data": {
      "text/plain": [
       "array([[ 17.  ,  12.25],\n",
       "       [128.  , 184.25]])"
      ]
     },
     "execution_count": 15,
     "metadata": {},
     "output_type": "execute_result"
    }
   ],
   "source": [
    "Centroids"
   ]
  },
  {
   "cell_type": "code",
   "execution_count": 16,
   "id": "b3a342ec",
   "metadata": {},
   "outputs": [
    {
     "data": {
      "image/png": "[encoded data removed]",
      "text/plain": [
       "<Figure size 432x288 with 1 Axes>"
      ]
     },
     "metadata": {
      "needs_background": "light"
     },
     "output_type": "display_data"
    }
   ],
   "source": [
    "plt.scatter(X[:,0],X[:,1],c='black',label='unclustered data')\n",
    "plt.xlabel('Longitude')\n",
    "plt.ylabel('Latitude')\n",
    "plt.legend()\n",
    "plt.title('Plot of data points')\n",
    "plt.show()"
   ]
  },
  {
   "cell_type": "code",
   "execution_count": 17,
   "id": "59a78499",
   "metadata": {},
   "outputs": [
    {
     "data": {
      "image/png": "[encoded data removed]",
      "text/plain": [
       "<Figure size 432x288 with 1 Axes>"
      ]
     },
     "metadata": {
      "needs_background": "light"
     },
     "output_type": "display_data"
    }
   ],
   "source": [
    "color=['red','black','blue', 'purple']\n",
    "labels=['cluster1','cluster2','cluster3','cluster4','cluster5']\n",
    "for k in range(K):\n",
    "    plt.scatter(Output[k+1][:,0],Output[k+1][:,1],c=color[k],label=labels[k])\n",
    "plt.scatter(Centroids[0,:],Centroids[1,:],s=100,c='yellow',label='Centroids')\n",
    "plt.xlabel('Longitude')\n",
    "plt.ylabel('Latitude')\n",
    "plt.title(\"K-Means Clustering\")\n",
    "plt.legend()\n",
    "plt.savefig('KMeansClustering.png')\n",
    "plt.show()"
   ]
  },
  {
   "cell_type": "code",
   "execution_count": null,
   "id": "ff9d2991-33ad-4b07-8403-d3cc5292e5cf",
   "metadata": {},
   "outputs": [],
   "source": []
  }
 ],
 "metadata": {
  "kernelspec": {
   "display_name": "Python 3 (ipykernel)",
   "language": "python",
   "name": "python3"
  },
  "language_info": {
   "codemirror_mode": {
    "name": "ipython",
    "version": 3
   },
   "file_extension": ".py",
   "mimetype": "text/x-python",
   "name": "python",
   "nbconvert_exporter": "python",
   "pygments_lexer": "ipython3",
   "version": "3.9.7"
  }
 },
 "nbformat": 4,
 "nbformat_minor": 5
}
