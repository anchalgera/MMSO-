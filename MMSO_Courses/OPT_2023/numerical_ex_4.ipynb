{
 "cells": [
  {
   "attachments": {},
   "cell_type": "markdown",
   "metadata": {},
   "source": [
    "\n",
    "\n",
    "<center>\n",
    "\n",
    "## Numerical Exercise 4\n",
    "### Md Shariar Imroze Khan\n",
    "### Matriculation Number: 220202354\n",
    "\n",
    "</center>\n",
    "\n",
    "___________________________________________________________________________\n"
   ]
  },
  {
   "cell_type": "code",
   "execution_count": 45,
   "metadata": {},
   "outputs": [],
   "source": [
    "import numpy as np\n",
    "import math\n",
    "from sympy import *\n",
    "import random"
   ]
  },
  {
   "cell_type": "code",
   "execution_count": 46,
   "metadata": {},
   "outputs": [
    {
     "name": "stdout",
     "output_type": "stream",
     "text": [
      "0: 0\n",
      "1: 0.999999999000000\n"
     ]
    }
   ],
   "source": [
    "########################### (a): Criteria 1 ###########################\n",
    "def newton(f, df, x0, ea, er, N=50):\n",
    "\n",
    "\tdef g(x):\n",
    "\t\treturn x - f(x)/df(x)\n",
    "\n",
    "\tdef g0(x_0):\n",
    "\t\treturn x0 - f(x0)/df(x0)\n",
    "\n",
    "\tapprox = [x0]\n",
    "\n",
    "\tn = 0\n",
    "\tea = 10**-3\n",
    "\ter = 10**-10\n",
    "\n",
    "\twhile n < 100:\n",
    "\t\t# Calculate x[n+1]\n",
    "\t\tapprox.append(g(approx[n]))\n",
    "\n",
    "\t\t# Check for convergence\n",
    "\t\tif abs(approx[n]) < ea:  # Criteria 1\n",
    "\t\t\t# if abs(approx[n]) < er*abs(approx[0])+ea:\t#Criteria 2\n",
    "\t\t\t# if abs(approx[n+1] - approx[n]) < ea :\t#Criteria 3\n",
    "\t\t\t# if abs(approx[n+1]-approx[n]) < er*abs(approx[0])+ea: #Criteria 4\n",
    "\t\t\treturn approx\n",
    "\t\tn = n + 1\n",
    "\n",
    "\n",
    "def f(x):\n",
    "\treturn exp(-x) - 10**(-9)\n",
    "\n",
    "\n",
    "def df(x):\n",
    "\treturn -exp(-x)\n",
    "\n",
    "\n",
    "# Start Newton's method\n",
    "approx = newton(f, df, 0, 10**-3, 10**-10)\n",
    "\n",
    "for i in range(len(approx)):\n",
    "\tif approx[i] > 0:\n",
    "\t\tprint(f\"{i}: {approx[i]}\")\n",
    "\telse:\n",
    "\t\tprint(f\"{i}: {approx[i]}\")"
   ]
  },
  {
   "cell_type": "code",
   "execution_count": 47,
   "metadata": {},
   "outputs": [
    {
     "name": "stdout",
     "output_type": "stream",
     "text": [
      "0: 0\n",
      "1: 0.999999999000000\n"
     ]
    }
   ],
   "source": [
    "########################### (a): Criteria 2 ###########################\n",
    "def newton(f, df, x0, ea, er, N=50):\n",
    "    def g(x):\n",
    "        return x - f(x) / df(x)\n",
    "\n",
    "    approx = [x0]\n",
    "    n = 0\n",
    "\n",
    "    while n < N:\n",
    "        approx.append(g(approx[n]))\n",
    "\n",
    "        if abs(approx[n]) < er * abs(approx[0]) + ea:\n",
    "            return approx\n",
    "        \n",
    "    n = n + 1\n",
    "\n",
    "# Start Newton's method\n",
    "approx = newton(f, df, 0, 10**-3, 10**-10)\n",
    "\n",
    "for i in range(len(approx)):\n",
    "\tif approx[i] > 0:\n",
    "\t\tprint(f\"{i}: {approx[i]}\")\n",
    "\telse:\n",
    "\t\tprint(f\"{i}: {approx[i]}\")\n",
    "        "
   ]
  },
  {
   "cell_type": "code",
   "execution_count": 48,
   "metadata": {},
   "outputs": [
    {
     "name": "stdout",
     "output_type": "stream",
     "text": [
      "0: 0\n",
      "1: 0.999999999000000\n"
     ]
    }
   ],
   "source": [
    "######################## (a): Criteria 2 ################################\n",
    "def newton(f, df, x0, ea, er, N=50):\n",
    "\n",
    "\tdef g(x):\n",
    "\t\treturn x - f(x) / df(x)\n",
    "\n",
    "\tdef g0(x_0):\n",
    "\t\treturn x0 - f(x0) / df(x0)\n",
    "\n",
    "\tapprox = [x0]\n",
    "\n",
    "\tn = 0\n",
    "\tea = 10**-3\n",
    "\ter = 10**-10\n",
    "\n",
    "\twhile n < 100:\n",
    "\t\t# Calculate x[n+1]\n",
    "\t\tapprox.append(g(approx[n]))\n",
    "\n",
    "\t\t# Check for convergence\n",
    "\t\t# if abs(approx[n]) < ea:\t#Criteria 1\n",
    "\t\tif abs(approx[n]) < er*abs(approx[0]) + ea:\t#Criteria 2\n",
    "\t\t\t# if abs(approx[n+1] - approx[n]) < ea :\t#Criteria 3\n",
    "\t\t\t# if abs(approx[n+1]-approx[n]) < er*abs(approx[0])+ea: #Criteria 4\n",
    "\t\t\treturn approx\n",
    "\t\tn = n + 1\n",
    "\n",
    "\n",
    "def f(x):\n",
    "\treturn exp(-x) - 10**(-9)\n",
    "\n",
    "\n",
    "def df(x):\n",
    "\treturn -exp(-x)\n",
    "\n",
    "\n",
    "# Start Newton's method\n",
    "approx = newton(f, df, 0, 10**-3, 10**-10)\n",
    "\n",
    "for i in range(len(approx)):\n",
    "\tif approx[i] > 0:\n",
    "\t\tprint(f\"{i}: {approx[i]}\")\n",
    "\telse:\n",
    "\t\tprint(f\"{i}: {approx[i]}\")\n",
    "\n"
   ]
  },
  {
   "cell_type": "code",
   "execution_count": 49,
   "metadata": {},
   "outputs": [
    {
     "name": "stdout",
     "output_type": "stream",
     "text": [
      "0: 0\n",
      "1: 0.999999999000000\n",
      "2: 1.99999999628172\n",
      "3: 2.99999998889266\n",
      "4: 3.99999996880713\n",
      "5: 4.99999991420898\n",
      "6: 5.99999976579583\n",
      "7: 6.99999936236713\n",
      "8: 7.99999826573467\n",
      "9: 8.99999528478185\n",
      "10: 9.99998718173613\n",
      "11: 10.9999651555527\n",
      "12: 11.9999052834972\n",
      "13: 12.9997425441206\n",
      "14: 13.9993002446159\n",
      "15: 14.9980984815662\n",
      "16: 15.9948356743842\n",
      "17: 16.9859953363382\n",
      "18: 17.9621763078303\n",
      "19: 18.8989534601427\n",
      "20: 19.7376249208985\n",
      "21: 20.3644249604722\n",
      "22: 20.6659394724895\n",
      "23: 20.7216536347528\n",
      "24: 20.7232645380466\n",
      "25: 20.7232658369456\n"
     ]
    }
   ],
   "source": [
    "############################ (a): Criteria 3 #####################\n",
    "def newton(f, df, x0, ea, er, N=50):\n",
    "\n",
    "\tdef g(x):\n",
    "\t\treturn x - f(x) / df(x)\n",
    "\n",
    "\tdef g0(x_0):\n",
    "\t\treturn x0 - f(x0) / df(x0)\n",
    "\n",
    "\tapprox = [x0]\n",
    "\n",
    "\tn = 0\n",
    "\tea = 10**-3\n",
    "\ter = 10**-10\n",
    "\n",
    "\twhile n < 100:\n",
    "\t\t# Calculate x[n+1]\n",
    "\t\tapprox.append(g(approx[n]))\n",
    "\n",
    "\t\tif abs(approx[n+1] - approx[n]) < ea:\t#Criteria 3\n",
    "\t\t\t# if abs(approx[n]) < ea:\t#Criteria 1\n",
    "\t\t\t# if abs(approx[n]) < er*abs(approx[0])+ea:\t#Criteria 2\n",
    "\t\t\t# if abs(approx[n+1]-approx[n]) < er*abs(approx[0])+ea: #Criteria 4\n",
    "\t\t\treturn approx\n",
    "\t\tn = n + 1\n",
    "\n",
    "\n",
    "def f(x):\n",
    "\treturn exp(-x) -10**(-9)\n",
    "\n",
    "\n",
    "def df(x):\n",
    "\treturn -exp(-x)\n",
    "\n",
    "\n",
    "# Start Newton's method\n",
    "approx = newton(f, df, 0, 10**-3, 10**-10)\n",
    "\n",
    "for i in range(len(approx)):\n",
    "\tif approx[i] > 0:\n",
    "\t\tprint(f\"{i}: {approx[i]}\")\n",
    "\telse:\n",
    "\t\tprint(f\"{i}: {approx[i]}\")\n"
   ]
  },
  {
   "cell_type": "code",
   "execution_count": 52,
   "metadata": {},
   "outputs": [
    {
     "name": "stdout",
     "output_type": "stream",
     "text": [
      "0: 0\n",
      "1: 0.999999999000000\n",
      "2: 1.99999999628172\n",
      "3: 2.99999998889266\n",
      "4: 3.99999996880713\n",
      "5: 4.99999991420898\n",
      "6: 5.99999976579583\n",
      "7: 6.99999936236713\n",
      "8: 7.99999826573467\n",
      "9: 8.99999528478185\n",
      "10: 9.99998718173613\n",
      "11: 10.9999651555527\n",
      "12: 11.9999052834972\n",
      "13: 12.9997425441206\n",
      "14: 13.9993002446159\n",
      "15: 14.9980984815662\n",
      "16: 15.9948356743842\n",
      "17: 16.9859953363382\n",
      "18: 17.9621763078303\n",
      "19: 18.8989534601427\n",
      "20: 19.7376249208985\n",
      "21: 20.3644249604722\n",
      "22: 20.6659394724895\n",
      "23: 20.7216536347528\n",
      "24: 20.7232645380466\n",
      "25: 20.7232658369456\n"
     ]
    }
   ],
   "source": [
    "################################## (a): Criteria 4 ##################\n",
    "def newton(f, df, x0, ea, er, N=50):\n",
    "\n",
    "\tdef g(x):\n",
    "\t\treturn x - f(x) / df(x)\n",
    "\n",
    "\tdef g0(x_0):\n",
    "\t\treturn x0 - f(x0) / df(x0)\n",
    "\n",
    "\tapprox = [x0]\n",
    "\n",
    "\tn = 0\n",
    "\tea = 10**-3\n",
    "\ter = 10**-10\n",
    "\n",
    "\twhile n < 100:\n",
    "\t\t# Calculate x[n+1]\n",
    "\t\tapprox.append(g(approx[n]))\n",
    "\n",
    "\t\tif abs(approx[n+1] - approx[n]) < er*abs(approx[0]) + ea:\t#Criteria 4\n",
    "\t\t\t# if abs(approx[n]) < ea:\t#Criteria 1\n",
    "\t\t\t# if abs(approx[n]) < er*abs(approx[0])+ea:\t#Criteria 2\n",
    "\t\t\t# if abs(approx[n+1]-approx[n]) < ea :\t#Criteria 3\n",
    "\t\t\treturn approx\n",
    "\t\tn = n + 1\n",
    "\n",
    "\n",
    "def f(x):\n",
    "\treturn exp(-x)-10**(-9)\n",
    "\n",
    "\n",
    "def df(x):\n",
    "\treturn -exp(-x)\n",
    "\n",
    "\n",
    "# Start Newton's method\n",
    "approx = newton(f, df, 0, 10**-3, 10**-10)\n",
    "\n",
    "for i in range(len(approx)):\n",
    "\tif approx[i] > 0:\n",
    "\t\tprint(f\"{i}: {approx[i]}\")\n",
    "\telse:\n",
    "\t\tprint(f\"{i}: {approx[i]}\")"
   ]
  },
  {
   "cell_type": "code",
   "execution_count": 54,
   "metadata": {},
   "outputs": [],
   "source": [
    "############################ (b) ################################\n",
    "def f(X):\n",
    "\tx, y = X\n",
    "\treturn (x-1)**4 + 2*(x-1)**2*(y-1)**2 + (y+1)**4 - 2*(y-1)**2 - (2*y+1)**2 + 1\n",
    "\n",
    "def f_grad(X):\n",
    "\tx, y = X\n",
    "\treturn [4*(x-1)*((x-1)**2+(y-1)**2),\n",
    "\t        4*((x**2)*(y-1)-2*x*(y-1)+y*(y**2+3*y+1))]\n",
    "\n",
    "def f_hess(X):\n",
    "\tx, y = X\n",
    "\treturn [[12*(x-1)**2+4*(y-1)**2, 8*(x-1)*(y-1)],\n",
    "\t        [4*(x-1)*(y-1), 4*(x-1)**2+12*(y+1)**2-12]]"
   ]
  },
  {
   "cell_type": "code",
   "execution_count": 55,
   "metadata": {},
   "outputs": [],
   "source": [
    "def newton_ST1(x_init, epsilon=1e-4, er=10**-1, max_iterations=100):  # with stopping criteria 1\n",
    "\tx = x_init\n",
    "\tprev_x = np.zeros(2)\n",
    "\tfor i in range(max_iterations):\n",
    "\t\tx = x - np.linalg.solve(np.array(f_hess(x)), np.array(f_grad(x)))\n",
    "\n",
    "\t\t# Criteria 1\n",
    "\t\tif np.linalg.norm((f_grad(prev_x), f_grad(x)), np.inf) < epsilon:\n",
    "\t\t\treturn x, i\n",
    "\n",
    "\t\tprev_x = x\n",
    "\n",
    "\tprint(x, '-iterations:', i+1)\n",
    "\treturn x, max_iterations"
   ]
  },
  {
   "cell_type": "code",
   "execution_count": 56,
   "metadata": {},
   "outputs": [],
   "source": [
    "def newton_ST2(x_init, epsilon=1e-4, er=10**-10, max_iterations=100):  # with stopping criteria 2\n",
    "\tx = x_init\n",
    "\tprev_x = np.zeros(2)\n",
    "\tfor i in range(max_iterations):\n",
    "\t\tx = x - np.linalg.solve(np.array(f_hess(x)), np.array(f_grad(x)))\n",
    "\n",
    "\t\t# Criteria 2\n",
    "\t\tif (np.linalg.norm((f_grad(prev_x), f_grad(x)), np.inf)) < er * np.linalg.norm(f_grad(x), np.inf):\n",
    "\t\t\treturn x, i\n",
    "\n",
    "\t\tprev_x = x\n",
    "\n",
    "\tprint(x, '-iterations:', i+1)\n",
    "\treturn x, max_iterations"
   ]
  },
  {
   "cell_type": "code",
   "execution_count": 57,
   "metadata": {},
   "outputs": [],
   "source": [
    "x_init = np.array([1.21, -1.15])"
   ]
  },
  {
   "cell_type": "code",
   "execution_count": 58,
   "metadata": {},
   "outputs": [],
   "source": [
    "g_x0 = f_grad(x_init)\n",
    "h_x0 = f_hess(x_init)"
   ]
  },
  {
   "cell_type": "code",
   "execution_count": 62,
   "metadata": {},
   "outputs": [
    {
     "name": "stdout",
     "output_type": "stream",
     "text": [
      "Extremum at, x* = [ 1.        -3.1038034]\n",
      "Value of Extremum, f(x*) = -40.2121968967047\n",
      "Iterations = 13\n"
     ]
    }
   ],
   "source": [
    "x_min, it = newton_ST1(x_init)\n",
    "print('Extremum at, x* =', x_min)\n",
    "print('Value of Extremum, f(x*) =', f(x_min))\n",
    "print('Iterations =', it-1)"
   ]
  },
  {
   "cell_type": "code",
   "execution_count": 61,
   "metadata": {},
   "outputs": [
    {
     "name": "stdout",
     "output_type": "stream",
     "text": [
      "[ 1.        -3.1038034] -iterations: 100\n",
      "Extremum at, x* = [ 1.        -3.1038034]\n",
      "Value of Extremum, f(x*) = -40.2121968967047\n",
      "Iterations = 99\n"
     ]
    }
   ],
   "source": [
    "x_min, it = newton_ST2(x_init)\n",
    "print('Extremum at, x* =', x_min)\n",
    "print('Value of Extremum, f(x*) =', f(x_min))\n",
    "print('Iterations =', it-1)"
   ]
  },
  {
   "cell_type": "code",
   "execution_count": null,
   "metadata": {},
   "outputs": [],
   "source": []
  }
 ],
 "metadata": {
  "kernelspec": {
   "display_name": "Python 3",
   "language": "python",
   "name": "python3"
  },
  "language_info": {
   "codemirror_mode": {
    "name": "ipython",
    "version": 3
   },
   "file_extension": ".py",
   "mimetype": "text/x-python",
   "name": "python",
   "nbconvert_exporter": "python",
   "pygments_lexer": "ipython3",
   "version": "3.10.11"
  },
  "orig_nbformat": 4
 },
 "nbformat": 4,
 "nbformat_minor": 2
}
