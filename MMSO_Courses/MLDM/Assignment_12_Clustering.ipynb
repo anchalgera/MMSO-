{
 "cells": [
  {
   "cell_type": "code",
   "execution_count": 1,
   "id": "63cf0a29",
   "metadata": {},
   "outputs": [
    {
     "data": {
      "text/plain": [
       "array([[ 10, 125],\n",
       "       [ 12, 187],\n",
       "       [ 28, 196],\n",
       "       [ 18, 125],\n",
       "       [  8, 174],\n",
       "       [ 23, 125],\n",
       "       [ 14, 132],\n",
       "       [ 20, 133],\n",
       "       [  1, 180]])"
      ]
     },
     "execution_count": 1,
     "metadata": {},
     "output_type": "execute_result"
    }
   ],
   "source": [
    "import numpy as np\n",
    "import pandas as pd\n",
    "\n",
    "sample = np.array([[10,125],[12,187], [28,196], [18,125], [8,174], [23,125], [14,132],\n",
    "                [20,133], [1,180]])\n",
    "\n",
    "sample"
   ]
  },
  {
   "cell_type": "code",
   "execution_count": 2,
   "id": "be0504ce",
   "metadata": {},
   "outputs": [
    {
     "data": {
      "text/plain": [
       "array([[0.33333333, 0.        ],\n",
       "       [0.40740741, 0.87323944],\n",
       "       [1.        , 1.        ],\n",
       "       [0.62962963, 0.        ],\n",
       "       [0.25925926, 0.69014085],\n",
       "       [0.81481481, 0.        ],\n",
       "       [0.48148148, 0.09859155],\n",
       "       [0.7037037 , 0.11267606],\n",
       "       [0.        , 0.77464789]])"
      ]
     },
     "execution_count": 2,
     "metadata": {},
     "output_type": "execute_result"
    }
   ],
   "source": [
    "from sklearn.preprocessing import minmax_scale\n",
    "\n",
    "column_1 = minmax_scale(sample[:,0], feature_range=(0,1))#minmax_scale(sample[:,0], feature_range=(0,1)) #first column you don't want to scale\n",
    "column_2 = minmax_scale(sample[:,1], feature_range=(0,1)) #second column you want to scale\n",
    "sample_norm = np.stack((column_1, column_2), axis=1) #stack both columns to get a 2d array\n",
    "\n",
    "sample_norm"
   ]
  },
  {
   "cell_type": "code",
   "execution_count": null,
   "id": "0e91326f",
   "metadata": {},
   "outputs": [],
   "source": []
  },
  {
   "cell_type": "code",
   "execution_count": null,
   "id": "d1dff0da",
   "metadata": {},
   "outputs": [],
   "source": []
  }
 ],
 "metadata": {
  "kernelspec": {
   "display_name": "Python 3 (ipykernel)",
   "language": "python",
   "name": "python3"
  },
  "language_info": {
   "codemirror_mode": {
    "name": "ipython",
    "version": 3
   },
   "file_extension": ".py",
   "mimetype": "text/x-python",
   "name": "python",
   "nbconvert_exporter": "python",
   "pygments_lexer": "ipython3",
   "version": "3.9.7"
  }
 },
 "nbformat": 4,
 "nbformat_minor": 5
}
