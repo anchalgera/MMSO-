{
 "cells": [
  {
   "cell_type": "markdown",
   "id": "ba8cf0a9",
   "metadata": {},
   "source": [
    "# Q.2 \n",
    "A carpenter specializes in the manufacturing of chairs. He pro-\n",
    "duces two different versions. The required working time for chair A is 7 hours,\n",
    "whereas for chair B it is 8 hours. The carpenter can produce a maximum of 23\n",
    "chairs, whereby he can produce a maximum of 14 chairs for version B due to\n",
    "production-related reasons. His maximum working time is 4 weeks of 42 hours\n",
    "each. The profit from the subsequent sale is 100e for chair A and 120e for\n",
    "chair B, while the cost for producing one chair is 30e for type A and 50e for\n",
    "type B. Set up a system to find a production plan for chair A and chair B that\n",
    "maximizes the carpenter’s profit while minimizing the production cost.\n",
    "Optional: Solve the problem by using PuLP"
   ]
  },
  {
   "cell_type": "code",
   "execution_count": 1,
   "id": "0f833228",
   "metadata": {},
   "outputs": [
    {
     "name": "stdout",
     "output_type": "stream",
     "text": [
      "Requirement already satisfied: pulp in /Users/anchal/opt/anaconda3/lib/python3.9/site-packages (2.7.0)\r\n"
     ]
    }
   ],
   "source": [
    "!pip install pulp\n",
    "import pulp\n",
    "import numpy as np\n",
    "import matplotlib.pyplot as plt"
   ]
  },
  {
   "cell_type": "markdown",
   "id": "5522c088",
   "metadata": {},
   "source": [
    "# 1 Initialize problem"
   ]
  },
  {
   "cell_type": "code",
   "execution_count": 12,
   "id": "657901b4",
   "metadata": {},
   "outputs": [],
   "source": [
    "model = pulp.LpProblem(\"BiobjectiveLPMODEL\",pulp.LpMinimize)"
   ]
  },
  {
   "cell_type": "markdown",
   "id": "497b7c69",
   "metadata": {},
   "source": [
    "# 2 Declare decision variables"
   ]
  },
  {
   "cell_type": "code",
   "execution_count": 13,
   "id": "dc9dc6bb",
   "metadata": {},
   "outputs": [],
   "source": [
    "x1 = pulp.LpVariable(\"A\", lowBound=0, cat=\"Continuous\")\n",
    "x2 = pulp.LpVariable(\"B\", lowBound=0, cat=\"Continuous\")"
   ]
  },
  {
   "cell_type": "markdown",
   "id": "4e327e59",
   "metadata": {},
   "source": [
    "# 3 Define objective function"
   ]
  },
  {
   "cell_type": "code",
   "execution_count": 14,
   "id": "27367b61",
   "metadata": {},
   "outputs": [],
   "source": [
    "obj1 = -(100*x1 + 120*x2) #Because we are using LP minimize but we have to max profit\n",
    "obj2 = 30*x1 + 50*x2 #production cost\n",
    "model+= obj1\n",
    "model+= obj2"
   ]
  },
  {
   "cell_type": "markdown",
   "id": "2d616db0",
   "metadata": {},
   "source": [
    "# 4 Define constraints"
   ]
  },
  {
   "cell_type": "code",
   "execution_count": 15,
   "id": "53ce1382",
   "metadata": {},
   "outputs": [],
   "source": [
    "model+= 7*x1 + 8*x2 <= 168 #max time 4* 42 =168\n",
    "model+= x1 + x2 <= 23 #max chairs 23\n",
    "model+= x2<= 14 #max B chairs 14"
   ]
  },
  {
   "cell_type": "markdown",
   "id": "216aa936",
   "metadata": {},
   "source": [
    "# 5 Solve the problem"
   ]
  },
  {
   "cell_type": "code",
   "execution_count": 10,
   "id": "7b425ecd",
   "metadata": {},
   "outputs": [
    {
     "name": "stdout",
     "output_type": "stream",
     "text": [
      "Welcome to the CBC MILP Solver \n",
      "Version: 2.10.3 \n",
      "Build Date: Dec 15 2019 \n",
      "\n",
      "command line - /Users/anchal/opt/anaconda3/lib/python3.9/site-packages/pulp/solverdir/cbc/osx/64/cbc /var/folders/n7/j3y48f614k54_fs37n2khdc40000gn/T/cb9436cb086b4312a5b72b563d9ac586-pulp.mps timeMode elapsed branch printingOptions all solution /var/folders/n7/j3y48f614k54_fs37n2khdc40000gn/T/cb9436cb086b4312a5b72b563d9ac586-pulp.sol (default strategy 1)\n",
      "At line 2 NAME          MODEL\n",
      "At line 3 ROWS\n",
      "At line 8 COLUMNS\n",
      "At line 16 RHS\n",
      "At line 20 BOUNDS\n",
      "At line 21 ENDATA\n",
      "Problem MODEL has 3 rows, 2 columns and 5 elements\n",
      "Coin0008I MODEL read with 0 errors\n",
      "Option for timeMode changed from cpu to elapsed\n",
      "Presolve 0 (-3) rows, 0 (-2) columns and 0 (-5) elements\n",
      "Empty problem - 0 rows, 0 columns and 0 elements\n",
      "Optimal - objective value 0\n",
      "After Postsolve, objective 0, infeasibilities - dual 0 (0), primal 0 (0)\n",
      "Optimal objective 0 - 0 iterations time 0.002, Presolve 0.00\n",
      "Option for printingOptions changed from normal to all\n",
      "Total time (CPU seconds):       0.00   (Wallclock seconds):       0.00\n",
      "\n",
      "solution is optimal: True\n",
      "Optimal value for x1 (Objective 1) = 0.0\n",
      "Optimal value for x2 (Objective 2) = 0.0\n"
     ]
    }
   ],
   "source": [
    "model.solve()\n",
    "\n",
    "if model.status == 1:\n",
    "    print(f'solution is optimal: {pulp.constants.LpStatusOptimal == 1}')\n",
    "        # Print optimal values for x1 and x2\n",
    "    print(f'Optimal value for x1 (Objective 1) = {x1.varValue}')\n",
    "    print(f'Optimal value for x2 (Objective 2) = {x2.varValue}')\n",
    "else:\n",
    "    print(f'Failed to find solution: {pulp.LpStatus[model.status]}')"
   ]
  },
  {
   "cell_type": "code",
   "execution_count": null,
   "id": "c0f8e69c",
   "metadata": {},
   "outputs": [],
   "source": []
  },
  {
   "cell_type": "code",
   "execution_count": null,
   "id": "a5edaa17",
   "metadata": {},
   "outputs": [],
   "source": []
  }
 ],
 "metadata": {
  "kernelspec": {
   "display_name": "Python 3 (ipykernel)",
   "language": "python",
   "name": "python3"
  },
  "language_info": {
   "codemirror_mode": {
    "name": "ipython",
    "version": 3
   },
   "file_extension": ".py",
   "mimetype": "text/x-python",
   "name": "python",
   "nbconvert_exporter": "python",
   "pygments_lexer": "ipython3",
   "version": "3.9.13"
  }
 },
 "nbformat": 4,
 "nbformat_minor": 5
}
