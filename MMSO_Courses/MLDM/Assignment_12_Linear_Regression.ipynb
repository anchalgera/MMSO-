{
 "cells": [
  {
   "cell_type": "code",
   "execution_count": 1,
   "id": "ec5af6cd",
   "metadata": {},
   "outputs": [],
   "source": [
    "import numpy as np\n",
    "x = np.matrix([[440, 1], \n",
    "               [448,1],\n",
    "               [6205,1],\n",
    "               [4850,1],\n",
    "               [1420,1],\n",
    "               [16500,1],\n",
    "               [1776,1],\n",
    "               [6989,1],\n",
    "               [2040,1],\n",
    "               [9356,1]])\n",
    "y = np.matrix([[123], \n",
    "               [137],\n",
    "               [409],\n",
    "               [459],\n",
    "               [89],\n",
    "               [1067],\n",
    "               [230],\n",
    "               [496],\n",
    "               [208],\n",
    "               [652]])"
   ]
  },
  {
   "cell_type": "code",
   "execution_count": 2,
   "id": "c720c145",
   "metadata": {},
   "outputs": [
    {
     "data": {
      "text/plain": [
       "matrix([[  440,   448,  6205,  4850,  1420, 16500,  1776,  6989,  2040,\n",
       "          9356],\n",
       "        [    1,     1,     1,     1,     1,     1,     1,     1,     1,\n",
       "             1]])"
      ]
     },
     "execution_count": 2,
     "metadata": {},
     "output_type": "execute_result"
    }
   ],
   "source": [
    "x_transpose = x.transpose()\n",
    "x_transpose"
   ]
  },
  {
   "cell_type": "code",
   "execution_count": 3,
   "id": "29f5fdea",
   "metadata": {},
   "outputs": [
    {
     "data": {
      "text/plain": [
       "matrix([[480381862,     50024],\n",
       "        [    50024,        10]])"
      ]
     },
     "execution_count": 3,
     "metadata": {},
     "output_type": "execute_result"
    }
   ],
   "source": [
    "one = np.dot(x_transpose,x)\n",
    "one"
   ]
  },
  {
   "cell_type": "code",
   "execution_count": 4,
   "id": "f2234202",
   "metadata": {},
   "outputs": [
    {
     "data": {
      "text/plain": [
       "matrix([[33010827],\n",
       "        [    3870]])"
      ]
     },
     "execution_count": 4,
     "metadata": {},
     "output_type": "execute_result"
    }
   ],
   "source": [
    "two = np.dot(x_transpose,y)\n",
    "two"
   ]
  },
  {
   "cell_type": "code",
   "execution_count": 5,
   "id": "e5ea7cc9",
   "metadata": {},
   "outputs": [
    {
     "data": {
      "text/plain": [
       "matrix([[5.93179455e-02],\n",
       "        [9.02679097e+01]])"
      ]
     },
     "execution_count": 5,
     "metadata": {},
     "output_type": "execute_result"
    }
   ],
   "source": [
    "three = np.dot(np.linalg.inv(one),two)\n",
    "three"
   ]
  },
  {
   "cell_type": "code",
   "execution_count": 6,
   "id": "03b4daa7",
   "metadata": {},
   "outputs": [
    {
     "data": {
      "text/plain": [
       "matrix([[ 4.34514713e-09, -2.17361640e-05],\n",
       "        [-2.17361640e-05,  2.08732987e-01]])"
      ]
     },
     "execution_count": 6,
     "metadata": {},
     "output_type": "execute_result"
    }
   ],
   "source": [
    "inverse=np.linalg.inv(one)\n",
    "inverse"
   ]
  },
  {
   "cell_type": "code",
   "execution_count": 7,
   "id": "1c726ccb",
   "metadata": {},
   "outputs": [
    {
     "name": "stdout",
     "output_type": "stream",
     "text": [
      "Berlin,Moscow,Kyiv:  116.36780572 211.27651852 184.6427609905\n"
     ]
    }
   ],
   "source": [
    "g_berlin = 5.93179455e-02 * 440  + 9.02679097e+01\n",
    "g_moscow = 5.93179455e-02 * 2040 + 9.02679097e+01\n",
    "g_kyiv = 5.93179455e-02 * 1591 + 9.02679097e+01\n",
    "\n",
    "print(\"Berlin,Moscow,Kyiv: \", g_berlin,g_moscow,g_kyiv)"
   ]
  },
  {
   "cell_type": "code",
   "execution_count": 8,
   "id": "f809adde",
   "metadata": {},
   "outputs": [
    {
     "data": {
      "text/plain": [
       "743.4229091321583"
      ]
     },
     "execution_count": 8,
     "metadata": {},
     "output_type": "execute_result"
    }
   ],
   "source": [
    "MSE = 1/3*((138-g_kyiv)**2+(123-g_berlin)**2+(208-g_moscow)**2)\n",
    "MSE"
   ]
  }
 ],
 "metadata": {
  "kernelspec": {
   "display_name": "base",
   "language": "python",
   "name": "python3"
  },
  "language_info": {
   "codemirror_mode": {
    "name": "ipython",
    "version": 3
   },
   "file_extension": ".py",
   "mimetype": "text/x-python",
   "name": "python",
   "nbconvert_exporter": "python",
   "pygments_lexer": "ipython3",
   "version": "3.9.7"
  },
  "vscode": {
   "interpreter": {
    "hash": "9157db55b2a39bf322fae47794983c77591eed158ff3422655bab9d76d44c61c"
   }
  }
 },
 "nbformat": 4,
 "nbformat_minor": 5
}
